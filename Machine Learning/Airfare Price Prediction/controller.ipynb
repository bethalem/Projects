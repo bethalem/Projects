{
 "cells": [
  {
   "cell_type": "markdown",
   "metadata": {},
   "source": [
    "# Machine Learning Predictive Model for Flight Pricing \n",
    "### DTSC 691 \n",
    "### Machine Learning\n",
    "### Project Proposal\n",
    "### Bethlehem Alem \n",
    "\n"
   ]
  },
  {
   "cell_type": "markdown",
   "metadata": {},
   "source": [
    "#### Background\n",
    "\n",
    "Traveling has become one of the biggest components of our lives to keep us connected to one another. There are different forms of transportation to travel to different places for different reasons. People travel for leisure, medical treatment, work, or other purposes by car, train, and, most importantly, air. Thousands of Americans travel by airplane every day. The federal aviation administration air route traffic control center reported that there are more than 674 million passengers in 2021 (BTS, 2022). For most people when considering flying by air it is important to get a fair price. There are many websites that tell us when to buy tickets to get a better-priced fare. These websites use AI to study all the data history, predict future rates, and show what day to buy tickets. \n",
    "\n",
    "The Bureau of transportation statistics has a database for all transportation means in the USA. It contains data from military aviation to bike/pedestrian databases. It also contains subjects that influence traveling experiences from safety to energy to environmental factors. The database is well organized and labeled to download specific attributes the user wanted in xls or pdf format. Their website makes the latest available data accessible to the public in an organized and alphabetically sorted-out way.  \n",
    "\n",
    "\n",
    "#### General analytics\n",
    "\n",
    "This project aims to collect and analyze flight data to accurately predict prices for flights from various attributes. The recorded data is more than one million rows and will be reduced by more than half. The price and distance in miles, including ten other columns, were taken from the Origin and Destination survey data. The data collection might be influenced by other factors like covid 19, But it will show us the best values in the past year. \n",
    "\n",
    "\n",
    "For this project, Jupyter notebook will be utilized for the majority of the data analyses.  A summary of descriptive statistics will be performed to identify key attributes that affect flight prices. Then, various ML predictive models will be implemented to discover a preferable algorithm that works with the data. Finally, a grid search will be performed to hyper-tune the models and increase accuracy.\n"
   ]
  },
  {
   "cell_type": "code",
   "execution_count": 1,
   "metadata": {},
   "outputs": [],
   "source": [
    "# Common imports\n",
    "\n",
    "import numpy as np\n",
    "import pandas as pd"
   ]
  },
  {
   "cell_type": "code",
   "execution_count": 2,
   "metadata": {},
   "outputs": [],
   "source": [
    "\n",
    "# To plot pretty figures, Only in Jupyter\n",
    "%matplotlib inline \n",
    "\n",
    "import matplotlib as mpl\n",
    "import matplotlib.pyplot as plt\n",
    "mpl.rc('axes', labelsize=14)\n",
    "mpl.rc('xtick', labelsize=12)\n",
    "mpl.rc('ytick', labelsize=12)"
   ]
  },
  {
   "cell_type": "markdown",
   "metadata": {},
   "source": [
    "The [os](https://docs.python.org/3/library/os.html) library provides miscellaneous operating system interfaces.  "
   ]
  },
  {
   "cell_type": "code",
   "execution_count": 3,
   "metadata": {},
   "outputs": [],
   "source": [
    "import os\n",
    "\n",
    "PROJECT_ROOT_DIR = \".\"\n",
    "IMAGES_PATH = os.path.join(PROJECT_ROOT_DIR, \"images\")\n",
    "os.makedirs(IMAGES_PATH, exist_ok=True)\n",
    "\n",
    "# Function for saving images\n",
    "def save_fig(fig_id, tight_layout=True, fig_extension=\"png\", resolution=300):\n",
    "    path = os.path.join(IMAGES_PATH, fig_id + \".\" + fig_extension)\n",
    "    print(\"Saving figure\", fig_id)\n",
    "    if tight_layout:\n",
    "        plt.tight_layout()\n",
    "    plt.savefig(path, format=fig_extension, dpi=resolution)\n",
    "    \n",
    "def display_scores(scores):\n",
    "    print(\"Scores:\", scores)\n",
    "    print()\n",
    "    print(\"Mean:\", scores.mean())\n",
    "    print(\"Standard deviation:\", scores.std())"
   ]
  },
  {
   "cell_type": "markdown",
   "metadata": {},
   "source": [
    "## Get the Data and View/Inspect It"
   ]
  },
  {
   "cell_type": "code",
   "execution_count": 4,
   "metadata": {},
   "outputs": [],
   "source": [
    "# Read in Data from excel datase\n",
    "flight_info =pd.read_csv(\"Origin_and_Destination_Survey_DB1BMarket_2021_1.csv\")"
   ]
  },
  {
   "cell_type": "code",
   "execution_count": 5,
   "metadata": {},
   "outputs": [
    {
     "data": {
      "text/plain": [
       "(1048575, 41)"
      ]
     },
     "execution_count": 5,
     "metadata": {},
     "output_type": "execute_result"
    }
   ],
   "source": [
    "flight_info.shape"
   ]
  },
  {
   "cell_type": "code",
   "execution_count": 6,
   "metadata": {},
   "outputs": [],
   "source": [
    "data = flight_info"
   ]
  },
  {
   "cell_type": "code",
   "execution_count": 7,
   "metadata": {},
   "outputs": [
    {
     "name": "stdout",
     "output_type": "stream",
     "text": [
      "<class 'pandas.core.frame.DataFrame'>\n",
      "RangeIndex: 1048575 entries, 0 to 1048574\n",
      "Data columns (total 41 columns):\n",
      " #   Column              Non-Null Count    Dtype  \n",
      "---  ------              --------------    -----  \n",
      " 0   ItinID              1048575 non-null  float64\n",
      " 1   MktID               1048575 non-null  float64\n",
      " 2   MktCoupons          1048575 non-null  int64  \n",
      " 3   Year                1048575 non-null  int64  \n",
      " 4   Quarter             1048575 non-null  int64  \n",
      " 5   OriginAirportID     1048575 non-null  int64  \n",
      " 6   OriginAirportSeqID  1048575 non-null  int64  \n",
      " 7   OriginCityMarketID  1048575 non-null  int64  \n",
      " 8   Origin              1048575 non-null  object \n",
      " 9   OriginCountry       1048575 non-null  object \n",
      " 10  OriginStateFips     1048575 non-null  int64  \n",
      " 11  OriginState         1048575 non-null  object \n",
      " 12  OriginStateName     1048575 non-null  object \n",
      " 13  OriginWac           1048575 non-null  int64  \n",
      " 14  DestAirportID       1048575 non-null  int64  \n",
      " 15  DestAirportSeqID    1048575 non-null  int64  \n",
      " 16  DestCityMarketID    1048575 non-null  int64  \n",
      " 17  Dest                1048575 non-null  object \n",
      " 18  DestCountry         1048575 non-null  object \n",
      " 19  DestStateFips       1048575 non-null  int64  \n",
      " 20  DestState           1048575 non-null  object \n",
      " 21  DestStateName       1048575 non-null  object \n",
      " 22  DestWac             1048575 non-null  int64  \n",
      " 23  AirportGroup        1048575 non-null  object \n",
      " 24  WacGroup            1048575 non-null  object \n",
      " 25  TkCarrierChange     1048575 non-null  int64  \n",
      " 26  TkCarrierGroup      1048575 non-null  object \n",
      " 27  OpCarrierChange     1048575 non-null  int64  \n",
      " 28  OpCarrierGroup      1048575 non-null  object \n",
      " 29  RPCarrier           1048575 non-null  object \n",
      " 30  TkCarrier           1048575 non-null  object \n",
      " 31  OpCarrier           1048575 non-null  object \n",
      " 32  BulkFare            1048575 non-null  int64  \n",
      " 33  Passengers          1048575 non-null  int64  \n",
      " 34  MktFare             1048575 non-null  float64\n",
      " 35  MktDistance         1048575 non-null  int64  \n",
      " 36  MktDistanceGroup    1048575 non-null  int64  \n",
      " 37  MktMilesFlown       1048575 non-null  int64  \n",
      " 38  NonStopMiles        1048575 non-null  int64  \n",
      " 39  ItinGeoType         1048575 non-null  int64  \n",
      " 40  MktGeoType          1048575 non-null  int64  \n",
      "dtypes: float64(3), int64(23), object(15)\n",
      "memory usage: 328.0+ MB\n"
     ]
    }
   ],
   "source": [
    "# Inspect Metadata on flight pricing Data\n",
    "data.info()"
   ]
  },
  {
   "cell_type": "code",
   "execution_count": 8,
   "metadata": {},
   "outputs": [
    {
     "data": {
      "text/html": [
       "<div>\n",
       "<style scoped>\n",
       "    .dataframe tbody tr th:only-of-type {\n",
       "        vertical-align: middle;\n",
       "    }\n",
       "\n",
       "    .dataframe tbody tr th {\n",
       "        vertical-align: top;\n",
       "    }\n",
       "\n",
       "    .dataframe thead th {\n",
       "        text-align: right;\n",
       "    }\n",
       "</style>\n",
       "<table border=\"1\" class=\"dataframe\">\n",
       "  <thead>\n",
       "    <tr style=\"text-align: right;\">\n",
       "      <th></th>\n",
       "      <th>ItinID</th>\n",
       "      <th>MktID</th>\n",
       "      <th>MktCoupons</th>\n",
       "      <th>Year</th>\n",
       "      <th>Quarter</th>\n",
       "      <th>OriginAirportID</th>\n",
       "      <th>OriginAirportSeqID</th>\n",
       "      <th>OriginCityMarketID</th>\n",
       "      <th>OriginStateFips</th>\n",
       "      <th>OriginWac</th>\n",
       "      <th>...</th>\n",
       "      <th>OpCarrierChange</th>\n",
       "      <th>BulkFare</th>\n",
       "      <th>Passengers</th>\n",
       "      <th>MktFare</th>\n",
       "      <th>MktDistance</th>\n",
       "      <th>MktDistanceGroup</th>\n",
       "      <th>MktMilesFlown</th>\n",
       "      <th>NonStopMiles</th>\n",
       "      <th>ItinGeoType</th>\n",
       "      <th>MktGeoType</th>\n",
       "    </tr>\n",
       "  </thead>\n",
       "  <tbody>\n",
       "    <tr>\n",
       "      <th>count</th>\n",
       "      <td>1.048575e+06</td>\n",
       "      <td>1.048575e+06</td>\n",
       "      <td>1.048575e+06</td>\n",
       "      <td>1048575.0</td>\n",
       "      <td>1048575.0</td>\n",
       "      <td>1.048575e+06</td>\n",
       "      <td>1.048575e+06</td>\n",
       "      <td>1.048575e+06</td>\n",
       "      <td>1.048575e+06</td>\n",
       "      <td>1.048575e+06</td>\n",
       "      <td>...</td>\n",
       "      <td>1.048575e+06</td>\n",
       "      <td>1.048575e+06</td>\n",
       "      <td>1.048575e+06</td>\n",
       "      <td>1.048575e+06</td>\n",
       "      <td>1.048575e+06</td>\n",
       "      <td>1.048575e+06</td>\n",
       "      <td>1.048575e+06</td>\n",
       "      <td>1.048575e+06</td>\n",
       "      <td>1.048575e+06</td>\n",
       "      <td>1.048575e+06</td>\n",
       "    </tr>\n",
       "    <tr>\n",
       "      <th>mean</th>\n",
       "      <td>1.098081e+11</td>\n",
       "      <td>1.098081e+13</td>\n",
       "      <td>1.585457e+00</td>\n",
       "      <td>2021.0</td>\n",
       "      <td>1.0</td>\n",
       "      <td>1.292186e+04</td>\n",
       "      <td>1.292190e+06</td>\n",
       "      <td>3.213106e+04</td>\n",
       "      <td>2.631322e+01</td>\n",
       "      <td>5.475531e+01</td>\n",
       "      <td>...</td>\n",
       "      <td>2.858127e-01</td>\n",
       "      <td>8.487710e-05</td>\n",
       "      <td>1.967199e+00</td>\n",
       "      <td>1.942692e+02</td>\n",
       "      <td>1.346763e+03</td>\n",
       "      <td>3.200954e+00</td>\n",
       "      <td>1.344718e+03</td>\n",
       "      <td>1.236109e+03</td>\n",
       "      <td>1.914566e+00</td>\n",
       "      <td>1.914747e+00</td>\n",
       "    </tr>\n",
       "    <tr>\n",
       "      <th>std</th>\n",
       "      <td>9.359433e+10</td>\n",
       "      <td>9.359433e+12</td>\n",
       "      <td>5.592785e-01</td>\n",
       "      <td>0.0</td>\n",
       "      <td>0.0</td>\n",
       "      <td>1.532386e+03</td>\n",
       "      <td>1.532383e+05</td>\n",
       "      <td>1.424345e+03</td>\n",
       "      <td>1.683318e+01</td>\n",
       "      <td>2.693382e+01</td>\n",
       "      <td>...</td>\n",
       "      <td>4.518008e-01</td>\n",
       "      <td>9.212490e-03</td>\n",
       "      <td>6.909454e+00</td>\n",
       "      <td>1.589179e+02</td>\n",
       "      <td>8.079855e+02</td>\n",
       "      <td>1.640361e+00</td>\n",
       "      <td>8.072509e+02</td>\n",
       "      <td>7.563800e+02</td>\n",
       "      <td>2.795266e-01</td>\n",
       "      <td>2.792577e-01</td>\n",
       "    </tr>\n",
       "    <tr>\n",
       "      <th>min</th>\n",
       "      <td>2.021118e+06</td>\n",
       "      <td>2.021118e+08</td>\n",
       "      <td>1.000000e+00</td>\n",
       "      <td>2021.0</td>\n",
       "      <td>1.0</td>\n",
       "      <td>1.013500e+04</td>\n",
       "      <td>1.013506e+06</td>\n",
       "      <td>3.000900e+04</td>\n",
       "      <td>1.000000e+00</td>\n",
       "      <td>1.000000e+00</td>\n",
       "      <td>...</td>\n",
       "      <td>0.000000e+00</td>\n",
       "      <td>0.000000e+00</td>\n",
       "      <td>1.000000e+00</td>\n",
       "      <td>0.000000e+00</td>\n",
       "      <td>5.400000e+01</td>\n",
       "      <td>1.000000e+00</td>\n",
       "      <td>0.000000e+00</td>\n",
       "      <td>5.400000e+01</td>\n",
       "      <td>1.000000e+00</td>\n",
       "      <td>1.000000e+00</td>\n",
       "    </tr>\n",
       "    <tr>\n",
       "      <th>25%</th>\n",
       "      <td>2.021180e+10</td>\n",
       "      <td>2.021180e+12</td>\n",
       "      <td>1.000000e+00</td>\n",
       "      <td>2021.0</td>\n",
       "      <td>1.0</td>\n",
       "      <td>1.148100e+04</td>\n",
       "      <td>1.148102e+06</td>\n",
       "      <td>3.085200e+04</td>\n",
       "      <td>1.200000e+01</td>\n",
       "      <td>3.300000e+01</td>\n",
       "      <td>...</td>\n",
       "      <td>0.000000e+00</td>\n",
       "      <td>0.000000e+00</td>\n",
       "      <td>1.000000e+00</td>\n",
       "      <td>1.000000e+02</td>\n",
       "      <td>7.750000e+02</td>\n",
       "      <td>2.000000e+00</td>\n",
       "      <td>7.730000e+02</td>\n",
       "      <td>6.870000e+02</td>\n",
       "      <td>2.000000e+00</td>\n",
       "      <td>2.000000e+00</td>\n",
       "    </tr>\n",
       "    <tr>\n",
       "      <th>50%</th>\n",
       "      <td>2.021110e+11</td>\n",
       "      <td>2.021110e+13</td>\n",
       "      <td>2.000000e+00</td>\n",
       "      <td>2021.0</td>\n",
       "      <td>1.0</td>\n",
       "      <td>1.320400e+04</td>\n",
       "      <td>1.320402e+06</td>\n",
       "      <td>3.171400e+04</td>\n",
       "      <td>2.500000e+01</td>\n",
       "      <td>5.200000e+01</td>\n",
       "      <td>...</td>\n",
       "      <td>0.000000e+00</td>\n",
       "      <td>0.000000e+00</td>\n",
       "      <td>1.000000e+00</td>\n",
       "      <td>1.635000e+02</td>\n",
       "      <td>1.144000e+03</td>\n",
       "      <td>3.000000e+00</td>\n",
       "      <td>1.142000e+03</td>\n",
       "      <td>1.054000e+03</td>\n",
       "      <td>2.000000e+00</td>\n",
       "      <td>2.000000e+00</td>\n",
       "    </tr>\n",
       "    <tr>\n",
       "      <th>75%</th>\n",
       "      <td>2.021120e+11</td>\n",
       "      <td>2.021120e+13</td>\n",
       "      <td>2.000000e+00</td>\n",
       "      <td>2021.0</td>\n",
       "      <td>1.0</td>\n",
       "      <td>1.411200e+04</td>\n",
       "      <td>1.411206e+06</td>\n",
       "      <td>3.319800e+04</td>\n",
       "      <td>4.100000e+01</td>\n",
       "      <td>8.200000e+01</td>\n",
       "      <td>...</td>\n",
       "      <td>1.000000e+00</td>\n",
       "      <td>0.000000e+00</td>\n",
       "      <td>1.000000e+00</td>\n",
       "      <td>2.525000e+02</td>\n",
       "      <td>1.758000e+03</td>\n",
       "      <td>4.000000e+00</td>\n",
       "      <td>1.755000e+03</td>\n",
       "      <td>1.600000e+03</td>\n",
       "      <td>2.000000e+00</td>\n",
       "      <td>2.000000e+00</td>\n",
       "    </tr>\n",
       "    <tr>\n",
       "      <th>max</th>\n",
       "      <td>2.021120e+11</td>\n",
       "      <td>2.021120e+13</td>\n",
       "      <td>6.000000e+00</td>\n",
       "      <td>2021.0</td>\n",
       "      <td>1.0</td>\n",
       "      <td>1.686900e+04</td>\n",
       "      <td>1.686901e+06</td>\n",
       "      <td>3.610100e+04</td>\n",
       "      <td>7.800000e+01</td>\n",
       "      <td>9.300000e+01</td>\n",
       "      <td>...</td>\n",
       "      <td>1.000000e+00</td>\n",
       "      <td>1.000000e+00</td>\n",
       "      <td>1.070000e+03</td>\n",
       "      <td>2.877600e+04</td>\n",
       "      <td>9.766000e+03</td>\n",
       "      <td>2.000000e+01</td>\n",
       "      <td>9.766000e+03</td>\n",
       "      <td>8.102000e+03</td>\n",
       "      <td>2.000000e+00</td>\n",
       "      <td>2.000000e+00</td>\n",
       "    </tr>\n",
       "  </tbody>\n",
       "</table>\n",
       "<p>8 rows × 26 columns</p>\n",
       "</div>"
      ],
      "text/plain": [
       "             ItinID         MktID    MktCoupons       Year    Quarter  \\\n",
       "count  1.048575e+06  1.048575e+06  1.048575e+06  1048575.0  1048575.0   \n",
       "mean   1.098081e+11  1.098081e+13  1.585457e+00     2021.0        1.0   \n",
       "std    9.359433e+10  9.359433e+12  5.592785e-01        0.0        0.0   \n",
       "min    2.021118e+06  2.021118e+08  1.000000e+00     2021.0        1.0   \n",
       "25%    2.021180e+10  2.021180e+12  1.000000e+00     2021.0        1.0   \n",
       "50%    2.021110e+11  2.021110e+13  2.000000e+00     2021.0        1.0   \n",
       "75%    2.021120e+11  2.021120e+13  2.000000e+00     2021.0        1.0   \n",
       "max    2.021120e+11  2.021120e+13  6.000000e+00     2021.0        1.0   \n",
       "\n",
       "       OriginAirportID  OriginAirportSeqID  OriginCityMarketID  \\\n",
       "count     1.048575e+06        1.048575e+06        1.048575e+06   \n",
       "mean      1.292186e+04        1.292190e+06        3.213106e+04   \n",
       "std       1.532386e+03        1.532383e+05        1.424345e+03   \n",
       "min       1.013500e+04        1.013506e+06        3.000900e+04   \n",
       "25%       1.148100e+04        1.148102e+06        3.085200e+04   \n",
       "50%       1.320400e+04        1.320402e+06        3.171400e+04   \n",
       "75%       1.411200e+04        1.411206e+06        3.319800e+04   \n",
       "max       1.686900e+04        1.686901e+06        3.610100e+04   \n",
       "\n",
       "       OriginStateFips     OriginWac  ...  OpCarrierChange      BulkFare  \\\n",
       "count     1.048575e+06  1.048575e+06  ...     1.048575e+06  1.048575e+06   \n",
       "mean      2.631322e+01  5.475531e+01  ...     2.858127e-01  8.487710e-05   \n",
       "std       1.683318e+01  2.693382e+01  ...     4.518008e-01  9.212490e-03   \n",
       "min       1.000000e+00  1.000000e+00  ...     0.000000e+00  0.000000e+00   \n",
       "25%       1.200000e+01  3.300000e+01  ...     0.000000e+00  0.000000e+00   \n",
       "50%       2.500000e+01  5.200000e+01  ...     0.000000e+00  0.000000e+00   \n",
       "75%       4.100000e+01  8.200000e+01  ...     1.000000e+00  0.000000e+00   \n",
       "max       7.800000e+01  9.300000e+01  ...     1.000000e+00  1.000000e+00   \n",
       "\n",
       "         Passengers       MktFare   MktDistance  MktDistanceGroup  \\\n",
       "count  1.048575e+06  1.048575e+06  1.048575e+06      1.048575e+06   \n",
       "mean   1.967199e+00  1.942692e+02  1.346763e+03      3.200954e+00   \n",
       "std    6.909454e+00  1.589179e+02  8.079855e+02      1.640361e+00   \n",
       "min    1.000000e+00  0.000000e+00  5.400000e+01      1.000000e+00   \n",
       "25%    1.000000e+00  1.000000e+02  7.750000e+02      2.000000e+00   \n",
       "50%    1.000000e+00  1.635000e+02  1.144000e+03      3.000000e+00   \n",
       "75%    1.000000e+00  2.525000e+02  1.758000e+03      4.000000e+00   \n",
       "max    1.070000e+03  2.877600e+04  9.766000e+03      2.000000e+01   \n",
       "\n",
       "       MktMilesFlown  NonStopMiles   ItinGeoType    MktGeoType  \n",
       "count   1.048575e+06  1.048575e+06  1.048575e+06  1.048575e+06  \n",
       "mean    1.344718e+03  1.236109e+03  1.914566e+00  1.914747e+00  \n",
       "std     8.072509e+02  7.563800e+02  2.795266e-01  2.792577e-01  \n",
       "min     0.000000e+00  5.400000e+01  1.000000e+00  1.000000e+00  \n",
       "25%     7.730000e+02  6.870000e+02  2.000000e+00  2.000000e+00  \n",
       "50%     1.142000e+03  1.054000e+03  2.000000e+00  2.000000e+00  \n",
       "75%     1.755000e+03  1.600000e+03  2.000000e+00  2.000000e+00  \n",
       "max     9.766000e+03  8.102000e+03  2.000000e+00  2.000000e+00  \n",
       "\n",
       "[8 rows x 26 columns]"
      ]
     },
     "execution_count": 8,
     "metadata": {},
     "output_type": "execute_result"
    }
   ],
   "source": [
    "data.describe()"
   ]
  },
  {
   "cell_type": "code",
   "execution_count": 9,
   "metadata": {
    "scrolled": true
   },
   "outputs": [
    {
     "data": {
      "text/html": [
       "<div>\n",
       "<style scoped>\n",
       "    .dataframe tbody tr th:only-of-type {\n",
       "        vertical-align: middle;\n",
       "    }\n",
       "\n",
       "    .dataframe tbody tr th {\n",
       "        vertical-align: top;\n",
       "    }\n",
       "\n",
       "    .dataframe thead th {\n",
       "        text-align: right;\n",
       "    }\n",
       "</style>\n",
       "<table border=\"1\" class=\"dataframe\">\n",
       "  <thead>\n",
       "    <tr style=\"text-align: right;\">\n",
       "      <th></th>\n",
       "      <th>ItinID</th>\n",
       "      <th>MktID</th>\n",
       "      <th>MktCoupons</th>\n",
       "      <th>Year</th>\n",
       "      <th>Quarter</th>\n",
       "      <th>OriginAirportID</th>\n",
       "      <th>OriginAirportSeqID</th>\n",
       "      <th>OriginCityMarketID</th>\n",
       "      <th>OriginStateFips</th>\n",
       "      <th>OriginWac</th>\n",
       "      <th>...</th>\n",
       "      <th>OpCarrierChange</th>\n",
       "      <th>BulkFare</th>\n",
       "      <th>Passengers</th>\n",
       "      <th>MktFare</th>\n",
       "      <th>MktDistance</th>\n",
       "      <th>MktDistanceGroup</th>\n",
       "      <th>MktMilesFlown</th>\n",
       "      <th>NonStopMiles</th>\n",
       "      <th>ItinGeoType</th>\n",
       "      <th>MktGeoType</th>\n",
       "    </tr>\n",
       "  </thead>\n",
       "  <tbody>\n",
       "    <tr>\n",
       "      <th>count</th>\n",
       "      <td>1.048575e+06</td>\n",
       "      <td>1.048575e+06</td>\n",
       "      <td>1.048575e+06</td>\n",
       "      <td>1048575.0</td>\n",
       "      <td>1048575.0</td>\n",
       "      <td>1.048575e+06</td>\n",
       "      <td>1.048575e+06</td>\n",
       "      <td>1.048575e+06</td>\n",
       "      <td>1.048575e+06</td>\n",
       "      <td>1.048575e+06</td>\n",
       "      <td>...</td>\n",
       "      <td>1.048575e+06</td>\n",
       "      <td>1.048575e+06</td>\n",
       "      <td>1.048575e+06</td>\n",
       "      <td>1.048575e+06</td>\n",
       "      <td>1.048575e+06</td>\n",
       "      <td>1.048575e+06</td>\n",
       "      <td>1.048575e+06</td>\n",
       "      <td>1.048575e+06</td>\n",
       "      <td>1.048575e+06</td>\n",
       "      <td>1.048575e+06</td>\n",
       "    </tr>\n",
       "    <tr>\n",
       "      <th>mean</th>\n",
       "      <td>1.098081e+11</td>\n",
       "      <td>1.098081e+13</td>\n",
       "      <td>1.585457e+00</td>\n",
       "      <td>2021.0</td>\n",
       "      <td>1.0</td>\n",
       "      <td>1.292186e+04</td>\n",
       "      <td>1.292190e+06</td>\n",
       "      <td>3.213106e+04</td>\n",
       "      <td>2.631322e+01</td>\n",
       "      <td>5.475531e+01</td>\n",
       "      <td>...</td>\n",
       "      <td>2.858127e-01</td>\n",
       "      <td>8.487710e-05</td>\n",
       "      <td>1.967199e+00</td>\n",
       "      <td>1.942692e+02</td>\n",
       "      <td>1.346763e+03</td>\n",
       "      <td>3.200954e+00</td>\n",
       "      <td>1.344718e+03</td>\n",
       "      <td>1.236109e+03</td>\n",
       "      <td>1.914566e+00</td>\n",
       "      <td>1.914747e+00</td>\n",
       "    </tr>\n",
       "    <tr>\n",
       "      <th>std</th>\n",
       "      <td>9.359433e+10</td>\n",
       "      <td>9.359433e+12</td>\n",
       "      <td>5.592785e-01</td>\n",
       "      <td>0.0</td>\n",
       "      <td>0.0</td>\n",
       "      <td>1.532386e+03</td>\n",
       "      <td>1.532383e+05</td>\n",
       "      <td>1.424345e+03</td>\n",
       "      <td>1.683318e+01</td>\n",
       "      <td>2.693382e+01</td>\n",
       "      <td>...</td>\n",
       "      <td>4.518008e-01</td>\n",
       "      <td>9.212490e-03</td>\n",
       "      <td>6.909454e+00</td>\n",
       "      <td>1.589179e+02</td>\n",
       "      <td>8.079855e+02</td>\n",
       "      <td>1.640361e+00</td>\n",
       "      <td>8.072509e+02</td>\n",
       "      <td>7.563800e+02</td>\n",
       "      <td>2.795266e-01</td>\n",
       "      <td>2.792577e-01</td>\n",
       "    </tr>\n",
       "    <tr>\n",
       "      <th>min</th>\n",
       "      <td>2.021118e+06</td>\n",
       "      <td>2.021118e+08</td>\n",
       "      <td>1.000000e+00</td>\n",
       "      <td>2021.0</td>\n",
       "      <td>1.0</td>\n",
       "      <td>1.013500e+04</td>\n",
       "      <td>1.013506e+06</td>\n",
       "      <td>3.000900e+04</td>\n",
       "      <td>1.000000e+00</td>\n",
       "      <td>1.000000e+00</td>\n",
       "      <td>...</td>\n",
       "      <td>0.000000e+00</td>\n",
       "      <td>0.000000e+00</td>\n",
       "      <td>1.000000e+00</td>\n",
       "      <td>0.000000e+00</td>\n",
       "      <td>5.400000e+01</td>\n",
       "      <td>1.000000e+00</td>\n",
       "      <td>0.000000e+00</td>\n",
       "      <td>5.400000e+01</td>\n",
       "      <td>1.000000e+00</td>\n",
       "      <td>1.000000e+00</td>\n",
       "    </tr>\n",
       "    <tr>\n",
       "      <th>25%</th>\n",
       "      <td>2.021180e+10</td>\n",
       "      <td>2.021180e+12</td>\n",
       "      <td>1.000000e+00</td>\n",
       "      <td>2021.0</td>\n",
       "      <td>1.0</td>\n",
       "      <td>1.148100e+04</td>\n",
       "      <td>1.148102e+06</td>\n",
       "      <td>3.085200e+04</td>\n",
       "      <td>1.200000e+01</td>\n",
       "      <td>3.300000e+01</td>\n",
       "      <td>...</td>\n",
       "      <td>0.000000e+00</td>\n",
       "      <td>0.000000e+00</td>\n",
       "      <td>1.000000e+00</td>\n",
       "      <td>1.000000e+02</td>\n",
       "      <td>7.750000e+02</td>\n",
       "      <td>2.000000e+00</td>\n",
       "      <td>7.730000e+02</td>\n",
       "      <td>6.870000e+02</td>\n",
       "      <td>2.000000e+00</td>\n",
       "      <td>2.000000e+00</td>\n",
       "    </tr>\n",
       "    <tr>\n",
       "      <th>50%</th>\n",
       "      <td>2.021110e+11</td>\n",
       "      <td>2.021110e+13</td>\n",
       "      <td>2.000000e+00</td>\n",
       "      <td>2021.0</td>\n",
       "      <td>1.0</td>\n",
       "      <td>1.320400e+04</td>\n",
       "      <td>1.320402e+06</td>\n",
       "      <td>3.171400e+04</td>\n",
       "      <td>2.500000e+01</td>\n",
       "      <td>5.200000e+01</td>\n",
       "      <td>...</td>\n",
       "      <td>0.000000e+00</td>\n",
       "      <td>0.000000e+00</td>\n",
       "      <td>1.000000e+00</td>\n",
       "      <td>1.635000e+02</td>\n",
       "      <td>1.144000e+03</td>\n",
       "      <td>3.000000e+00</td>\n",
       "      <td>1.142000e+03</td>\n",
       "      <td>1.054000e+03</td>\n",
       "      <td>2.000000e+00</td>\n",
       "      <td>2.000000e+00</td>\n",
       "    </tr>\n",
       "    <tr>\n",
       "      <th>75%</th>\n",
       "      <td>2.021120e+11</td>\n",
       "      <td>2.021120e+13</td>\n",
       "      <td>2.000000e+00</td>\n",
       "      <td>2021.0</td>\n",
       "      <td>1.0</td>\n",
       "      <td>1.411200e+04</td>\n",
       "      <td>1.411206e+06</td>\n",
       "      <td>3.319800e+04</td>\n",
       "      <td>4.100000e+01</td>\n",
       "      <td>8.200000e+01</td>\n",
       "      <td>...</td>\n",
       "      <td>1.000000e+00</td>\n",
       "      <td>0.000000e+00</td>\n",
       "      <td>1.000000e+00</td>\n",
       "      <td>2.525000e+02</td>\n",
       "      <td>1.758000e+03</td>\n",
       "      <td>4.000000e+00</td>\n",
       "      <td>1.755000e+03</td>\n",
       "      <td>1.600000e+03</td>\n",
       "      <td>2.000000e+00</td>\n",
       "      <td>2.000000e+00</td>\n",
       "    </tr>\n",
       "    <tr>\n",
       "      <th>max</th>\n",
       "      <td>2.021120e+11</td>\n",
       "      <td>2.021120e+13</td>\n",
       "      <td>6.000000e+00</td>\n",
       "      <td>2021.0</td>\n",
       "      <td>1.0</td>\n",
       "      <td>1.686900e+04</td>\n",
       "      <td>1.686901e+06</td>\n",
       "      <td>3.610100e+04</td>\n",
       "      <td>7.800000e+01</td>\n",
       "      <td>9.300000e+01</td>\n",
       "      <td>...</td>\n",
       "      <td>1.000000e+00</td>\n",
       "      <td>1.000000e+00</td>\n",
       "      <td>1.070000e+03</td>\n",
       "      <td>2.877600e+04</td>\n",
       "      <td>9.766000e+03</td>\n",
       "      <td>2.000000e+01</td>\n",
       "      <td>9.766000e+03</td>\n",
       "      <td>8.102000e+03</td>\n",
       "      <td>2.000000e+00</td>\n",
       "      <td>2.000000e+00</td>\n",
       "    </tr>\n",
       "  </tbody>\n",
       "</table>\n",
       "<p>8 rows × 26 columns</p>\n",
       "</div>"
      ],
      "text/plain": [
       "             ItinID         MktID    MktCoupons       Year    Quarter  \\\n",
       "count  1.048575e+06  1.048575e+06  1.048575e+06  1048575.0  1048575.0   \n",
       "mean   1.098081e+11  1.098081e+13  1.585457e+00     2021.0        1.0   \n",
       "std    9.359433e+10  9.359433e+12  5.592785e-01        0.0        0.0   \n",
       "min    2.021118e+06  2.021118e+08  1.000000e+00     2021.0        1.0   \n",
       "25%    2.021180e+10  2.021180e+12  1.000000e+00     2021.0        1.0   \n",
       "50%    2.021110e+11  2.021110e+13  2.000000e+00     2021.0        1.0   \n",
       "75%    2.021120e+11  2.021120e+13  2.000000e+00     2021.0        1.0   \n",
       "max    2.021120e+11  2.021120e+13  6.000000e+00     2021.0        1.0   \n",
       "\n",
       "       OriginAirportID  OriginAirportSeqID  OriginCityMarketID  \\\n",
       "count     1.048575e+06        1.048575e+06        1.048575e+06   \n",
       "mean      1.292186e+04        1.292190e+06        3.213106e+04   \n",
       "std       1.532386e+03        1.532383e+05        1.424345e+03   \n",
       "min       1.013500e+04        1.013506e+06        3.000900e+04   \n",
       "25%       1.148100e+04        1.148102e+06        3.085200e+04   \n",
       "50%       1.320400e+04        1.320402e+06        3.171400e+04   \n",
       "75%       1.411200e+04        1.411206e+06        3.319800e+04   \n",
       "max       1.686900e+04        1.686901e+06        3.610100e+04   \n",
       "\n",
       "       OriginStateFips     OriginWac  ...  OpCarrierChange      BulkFare  \\\n",
       "count     1.048575e+06  1.048575e+06  ...     1.048575e+06  1.048575e+06   \n",
       "mean      2.631322e+01  5.475531e+01  ...     2.858127e-01  8.487710e-05   \n",
       "std       1.683318e+01  2.693382e+01  ...     4.518008e-01  9.212490e-03   \n",
       "min       1.000000e+00  1.000000e+00  ...     0.000000e+00  0.000000e+00   \n",
       "25%       1.200000e+01  3.300000e+01  ...     0.000000e+00  0.000000e+00   \n",
       "50%       2.500000e+01  5.200000e+01  ...     0.000000e+00  0.000000e+00   \n",
       "75%       4.100000e+01  8.200000e+01  ...     1.000000e+00  0.000000e+00   \n",
       "max       7.800000e+01  9.300000e+01  ...     1.000000e+00  1.000000e+00   \n",
       "\n",
       "         Passengers       MktFare   MktDistance  MktDistanceGroup  \\\n",
       "count  1.048575e+06  1.048575e+06  1.048575e+06      1.048575e+06   \n",
       "mean   1.967199e+00  1.942692e+02  1.346763e+03      3.200954e+00   \n",
       "std    6.909454e+00  1.589179e+02  8.079855e+02      1.640361e+00   \n",
       "min    1.000000e+00  0.000000e+00  5.400000e+01      1.000000e+00   \n",
       "25%    1.000000e+00  1.000000e+02  7.750000e+02      2.000000e+00   \n",
       "50%    1.000000e+00  1.635000e+02  1.144000e+03      3.000000e+00   \n",
       "75%    1.000000e+00  2.525000e+02  1.758000e+03      4.000000e+00   \n",
       "max    1.070000e+03  2.877600e+04  9.766000e+03      2.000000e+01   \n",
       "\n",
       "       MktMilesFlown  NonStopMiles   ItinGeoType    MktGeoType  \n",
       "count   1.048575e+06  1.048575e+06  1.048575e+06  1.048575e+06  \n",
       "mean    1.344718e+03  1.236109e+03  1.914566e+00  1.914747e+00  \n",
       "std     8.072509e+02  7.563800e+02  2.795266e-01  2.792577e-01  \n",
       "min     0.000000e+00  5.400000e+01  1.000000e+00  1.000000e+00  \n",
       "25%     7.730000e+02  6.870000e+02  2.000000e+00  2.000000e+00  \n",
       "50%     1.142000e+03  1.054000e+03  2.000000e+00  2.000000e+00  \n",
       "75%     1.755000e+03  1.600000e+03  2.000000e+00  2.000000e+00  \n",
       "max     9.766000e+03  8.102000e+03  2.000000e+00  2.000000e+00  \n",
       "\n",
       "[8 rows x 26 columns]"
      ]
     },
     "execution_count": 9,
     "metadata": {},
     "output_type": "execute_result"
    }
   ],
   "source": [
    "# convert all coloumns with type float to type int except MKTFare\n",
    "data.loc[:, ['ItinID', 'MktID']] = data.loc[:, ['ItinID', 'MktID']].astype(np.int64)\n",
    "data.describe()"
   ]
  },
  {
   "cell_type": "code",
   "execution_count": 10,
   "metadata": {},
   "outputs": [
    {
     "data": {
      "text/plain": [
       "array(['US'], dtype=object)"
      ]
     },
     "execution_count": 10,
     "metadata": {},
     "output_type": "execute_result"
    }
   ],
   "source": [
    "# to return the sorted unique elements\n",
    "data['OriginCountry'].unique()"
   ]
  },
  {
   "cell_type": "code",
   "execution_count": 11,
   "metadata": {},
   "outputs": [
    {
     "data": {
      "text/html": [
       "<div>\n",
       "<style scoped>\n",
       "    .dataframe tbody tr th:only-of-type {\n",
       "        vertical-align: middle;\n",
       "    }\n",
       "\n",
       "    .dataframe tbody tr th {\n",
       "        vertical-align: top;\n",
       "    }\n",
       "\n",
       "    .dataframe thead th {\n",
       "        text-align: right;\n",
       "    }\n",
       "</style>\n",
       "<table border=\"1\" class=\"dataframe\">\n",
       "  <thead>\n",
       "    <tr style=\"text-align: right;\">\n",
       "      <th></th>\n",
       "      <th>ItinID</th>\n",
       "      <th>MktID</th>\n",
       "      <th>MktCoupons</th>\n",
       "      <th>Year</th>\n",
       "      <th>Quarter</th>\n",
       "      <th>OriginAirportID</th>\n",
       "      <th>OriginAirportSeqID</th>\n",
       "      <th>OriginCityMarketID</th>\n",
       "      <th>Origin</th>\n",
       "      <th>OriginCountry</th>\n",
       "      <th>...</th>\n",
       "      <th>OpCarrier</th>\n",
       "      <th>BulkFare</th>\n",
       "      <th>Passengers</th>\n",
       "      <th>MktFare</th>\n",
       "      <th>MktDistance</th>\n",
       "      <th>MktDistanceGroup</th>\n",
       "      <th>MktMilesFlown</th>\n",
       "      <th>NonStopMiles</th>\n",
       "      <th>ItinGeoType</th>\n",
       "      <th>MktGeoType</th>\n",
       "    </tr>\n",
       "  </thead>\n",
       "  <tbody>\n",
       "    <tr>\n",
       "      <th>0</th>\n",
       "      <td>20211243122</td>\n",
       "      <td>2021120000000</td>\n",
       "      <td>1</td>\n",
       "      <td>2021</td>\n",
       "      <td>1</td>\n",
       "      <td>14100</td>\n",
       "      <td>1410005</td>\n",
       "      <td>34100</td>\n",
       "      <td>PHL</td>\n",
       "      <td>US</td>\n",
       "      <td>...</td>\n",
       "      <td>AA</td>\n",
       "      <td>0</td>\n",
       "      <td>3</td>\n",
       "      <td>64.00</td>\n",
       "      <td>2402</td>\n",
       "      <td>5</td>\n",
       "      <td>2402</td>\n",
       "      <td>2402</td>\n",
       "      <td>2</td>\n",
       "      <td>2</td>\n",
       "    </tr>\n",
       "    <tr>\n",
       "      <th>1</th>\n",
       "      <td>20211243123</td>\n",
       "      <td>2021120000000</td>\n",
       "      <td>1</td>\n",
       "      <td>2021</td>\n",
       "      <td>1</td>\n",
       "      <td>12892</td>\n",
       "      <td>1289208</td>\n",
       "      <td>32575</td>\n",
       "      <td>LAX</td>\n",
       "      <td>US</td>\n",
       "      <td>...</td>\n",
       "      <td>AA</td>\n",
       "      <td>0</td>\n",
       "      <td>2</td>\n",
       "      <td>68.50</td>\n",
       "      <td>2402</td>\n",
       "      <td>5</td>\n",
       "      <td>2402</td>\n",
       "      <td>2402</td>\n",
       "      <td>2</td>\n",
       "      <td>2</td>\n",
       "    </tr>\n",
       "    <tr>\n",
       "      <th>2</th>\n",
       "      <td>20211243123</td>\n",
       "      <td>2021120000000</td>\n",
       "      <td>1</td>\n",
       "      <td>2021</td>\n",
       "      <td>1</td>\n",
       "      <td>14100</td>\n",
       "      <td>1410005</td>\n",
       "      <td>34100</td>\n",
       "      <td>PHL</td>\n",
       "      <td>US</td>\n",
       "      <td>...</td>\n",
       "      <td>AA</td>\n",
       "      <td>0</td>\n",
       "      <td>2</td>\n",
       "      <td>68.50</td>\n",
       "      <td>2402</td>\n",
       "      <td>5</td>\n",
       "      <td>2402</td>\n",
       "      <td>2402</td>\n",
       "      <td>2</td>\n",
       "      <td>2</td>\n",
       "    </tr>\n",
       "    <tr>\n",
       "      <th>3</th>\n",
       "      <td>20211243124</td>\n",
       "      <td>2021120000000</td>\n",
       "      <td>1</td>\n",
       "      <td>2021</td>\n",
       "      <td>1</td>\n",
       "      <td>12892</td>\n",
       "      <td>1289208</td>\n",
       "      <td>32575</td>\n",
       "      <td>LAX</td>\n",
       "      <td>US</td>\n",
       "      <td>...</td>\n",
       "      <td>AA</td>\n",
       "      <td>0</td>\n",
       "      <td>3</td>\n",
       "      <td>70.50</td>\n",
       "      <td>2402</td>\n",
       "      <td>5</td>\n",
       "      <td>2402</td>\n",
       "      <td>2402</td>\n",
       "      <td>2</td>\n",
       "      <td>2</td>\n",
       "    </tr>\n",
       "    <tr>\n",
       "      <th>4</th>\n",
       "      <td>20211243124</td>\n",
       "      <td>2021120000000</td>\n",
       "      <td>1</td>\n",
       "      <td>2021</td>\n",
       "      <td>1</td>\n",
       "      <td>14100</td>\n",
       "      <td>1410005</td>\n",
       "      <td>34100</td>\n",
       "      <td>PHL</td>\n",
       "      <td>US</td>\n",
       "      <td>...</td>\n",
       "      <td>AA</td>\n",
       "      <td>0</td>\n",
       "      <td>3</td>\n",
       "      <td>70.50</td>\n",
       "      <td>2402</td>\n",
       "      <td>5</td>\n",
       "      <td>2402</td>\n",
       "      <td>2402</td>\n",
       "      <td>2</td>\n",
       "      <td>2</td>\n",
       "    </tr>\n",
       "    <tr>\n",
       "      <th>...</th>\n",
       "      <td>...</td>\n",
       "      <td>...</td>\n",
       "      <td>...</td>\n",
       "      <td>...</td>\n",
       "      <td>...</td>\n",
       "      <td>...</td>\n",
       "      <td>...</td>\n",
       "      <td>...</td>\n",
       "      <td>...</td>\n",
       "      <td>...</td>\n",
       "      <td>...</td>\n",
       "      <td>...</td>\n",
       "      <td>...</td>\n",
       "      <td>...</td>\n",
       "      <td>...</td>\n",
       "      <td>...</td>\n",
       "      <td>...</td>\n",
       "      <td>...</td>\n",
       "      <td>...</td>\n",
       "      <td>...</td>\n",
       "      <td>...</td>\n",
       "    </tr>\n",
       "    <tr>\n",
       "      <th>1048570</th>\n",
       "      <td>202111000000</td>\n",
       "      <td>20211100000000</td>\n",
       "      <td>2</td>\n",
       "      <td>2021</td>\n",
       "      <td>1</td>\n",
       "      <td>11624</td>\n",
       "      <td>1162403</td>\n",
       "      <td>31624</td>\n",
       "      <td>EYW</td>\n",
       "      <td>US</td>\n",
       "      <td>...</td>\n",
       "      <td>99</td>\n",
       "      <td>0</td>\n",
       "      <td>1</td>\n",
       "      <td>376.50</td>\n",
       "      <td>1064</td>\n",
       "      <td>3</td>\n",
       "      <td>1064</td>\n",
       "      <td>849</td>\n",
       "      <td>2</td>\n",
       "      <td>2</td>\n",
       "    </tr>\n",
       "    <tr>\n",
       "      <th>1048571</th>\n",
       "      <td>202111000000</td>\n",
       "      <td>20211100000000</td>\n",
       "      <td>2</td>\n",
       "      <td>2021</td>\n",
       "      <td>1</td>\n",
       "      <td>10693</td>\n",
       "      <td>1069302</td>\n",
       "      <td>30693</td>\n",
       "      <td>BNA</td>\n",
       "      <td>US</td>\n",
       "      <td>...</td>\n",
       "      <td>99</td>\n",
       "      <td>0</td>\n",
       "      <td>1</td>\n",
       "      <td>152.46</td>\n",
       "      <td>1064</td>\n",
       "      <td>3</td>\n",
       "      <td>1064</td>\n",
       "      <td>849</td>\n",
       "      <td>2</td>\n",
       "      <td>2</td>\n",
       "    </tr>\n",
       "    <tr>\n",
       "      <th>1048572</th>\n",
       "      <td>202111000000</td>\n",
       "      <td>20211100000000</td>\n",
       "      <td>2</td>\n",
       "      <td>2021</td>\n",
       "      <td>1</td>\n",
       "      <td>11624</td>\n",
       "      <td>1162403</td>\n",
       "      <td>31624</td>\n",
       "      <td>EYW</td>\n",
       "      <td>US</td>\n",
       "      <td>...</td>\n",
       "      <td>YX</td>\n",
       "      <td>0</td>\n",
       "      <td>1</td>\n",
       "      <td>133.54</td>\n",
       "      <td>932</td>\n",
       "      <td>2</td>\n",
       "      <td>932</td>\n",
       "      <td>849</td>\n",
       "      <td>2</td>\n",
       "      <td>2</td>\n",
       "    </tr>\n",
       "    <tr>\n",
       "      <th>1048573</th>\n",
       "      <td>202111000000</td>\n",
       "      <td>20211100000000</td>\n",
       "      <td>2</td>\n",
       "      <td>2021</td>\n",
       "      <td>1</td>\n",
       "      <td>10693</td>\n",
       "      <td>1069302</td>\n",
       "      <td>30693</td>\n",
       "      <td>BNA</td>\n",
       "      <td>US</td>\n",
       "      <td>...</td>\n",
       "      <td>99</td>\n",
       "      <td>0</td>\n",
       "      <td>1</td>\n",
       "      <td>360.35</td>\n",
       "      <td>1064</td>\n",
       "      <td>3</td>\n",
       "      <td>1064</td>\n",
       "      <td>849</td>\n",
       "      <td>2</td>\n",
       "      <td>2</td>\n",
       "    </tr>\n",
       "    <tr>\n",
       "      <th>1048574</th>\n",
       "      <td>202111000000</td>\n",
       "      <td>20211100000000</td>\n",
       "      <td>2</td>\n",
       "      <td>2021</td>\n",
       "      <td>1</td>\n",
       "      <td>11624</td>\n",
       "      <td>1162403</td>\n",
       "      <td>31624</td>\n",
       "      <td>EYW</td>\n",
       "      <td>US</td>\n",
       "      <td>...</td>\n",
       "      <td>YX</td>\n",
       "      <td>0</td>\n",
       "      <td>1</td>\n",
       "      <td>315.65</td>\n",
       "      <td>932</td>\n",
       "      <td>2</td>\n",
       "      <td>932</td>\n",
       "      <td>849</td>\n",
       "      <td>2</td>\n",
       "      <td>2</td>\n",
       "    </tr>\n",
       "  </tbody>\n",
       "</table>\n",
       "<p>1048575 rows × 41 columns</p>\n",
       "</div>"
      ],
      "text/plain": [
       "               ItinID           MktID  MktCoupons  Year  Quarter  \\\n",
       "0         20211243122   2021120000000           1  2021        1   \n",
       "1         20211243123   2021120000000           1  2021        1   \n",
       "2         20211243123   2021120000000           1  2021        1   \n",
       "3         20211243124   2021120000000           1  2021        1   \n",
       "4         20211243124   2021120000000           1  2021        1   \n",
       "...               ...             ...         ...   ...      ...   \n",
       "1048570  202111000000  20211100000000           2  2021        1   \n",
       "1048571  202111000000  20211100000000           2  2021        1   \n",
       "1048572  202111000000  20211100000000           2  2021        1   \n",
       "1048573  202111000000  20211100000000           2  2021        1   \n",
       "1048574  202111000000  20211100000000           2  2021        1   \n",
       "\n",
       "         OriginAirportID  OriginAirportSeqID  OriginCityMarketID Origin  \\\n",
       "0                  14100             1410005               34100    PHL   \n",
       "1                  12892             1289208               32575    LAX   \n",
       "2                  14100             1410005               34100    PHL   \n",
       "3                  12892             1289208               32575    LAX   \n",
       "4                  14100             1410005               34100    PHL   \n",
       "...                  ...                 ...                 ...    ...   \n",
       "1048570            11624             1162403               31624    EYW   \n",
       "1048571            10693             1069302               30693    BNA   \n",
       "1048572            11624             1162403               31624    EYW   \n",
       "1048573            10693             1069302               30693    BNA   \n",
       "1048574            11624             1162403               31624    EYW   \n",
       "\n",
       "        OriginCountry  ...  OpCarrier BulkFare Passengers  MktFare  \\\n",
       "0                  US  ...         AA        0          3    64.00   \n",
       "1                  US  ...         AA        0          2    68.50   \n",
       "2                  US  ...         AA        0          2    68.50   \n",
       "3                  US  ...         AA        0          3    70.50   \n",
       "4                  US  ...         AA        0          3    70.50   \n",
       "...               ...  ...        ...      ...        ...      ...   \n",
       "1048570            US  ...         99        0          1   376.50   \n",
       "1048571            US  ...         99        0          1   152.46   \n",
       "1048572            US  ...         YX        0          1   133.54   \n",
       "1048573            US  ...         99        0          1   360.35   \n",
       "1048574            US  ...         YX        0          1   315.65   \n",
       "\n",
       "         MktDistance  MktDistanceGroup  MktMilesFlown NonStopMiles  \\\n",
       "0               2402                 5           2402         2402   \n",
       "1               2402                 5           2402         2402   \n",
       "2               2402                 5           2402         2402   \n",
       "3               2402                 5           2402         2402   \n",
       "4               2402                 5           2402         2402   \n",
       "...              ...               ...            ...          ...   \n",
       "1048570         1064                 3           1064          849   \n",
       "1048571         1064                 3           1064          849   \n",
       "1048572          932                 2            932          849   \n",
       "1048573         1064                 3           1064          849   \n",
       "1048574          932                 2            932          849   \n",
       "\n",
       "        ItinGeoType  MktGeoType  \n",
       "0                 2           2  \n",
       "1                 2           2  \n",
       "2                 2           2  \n",
       "3                 2           2  \n",
       "4                 2           2  \n",
       "...             ...         ...  \n",
       "1048570           2           2  \n",
       "1048571           2           2  \n",
       "1048572           2           2  \n",
       "1048573           2           2  \n",
       "1048574           2           2  \n",
       "\n",
       "[1048575 rows x 41 columns]"
      ]
     },
     "execution_count": 11,
     "metadata": {},
     "output_type": "execute_result"
    }
   ],
   "source": [
    "data"
   ]
  },
  {
   "cell_type": "code",
   "execution_count": 12,
   "metadata": {},
   "outputs": [
    {
     "data": {
      "text/plain": [
       "count    1.048575e+06\n",
       "mean     1.942692e+02\n",
       "std      1.589179e+02\n",
       "min      0.000000e+00\n",
       "25%      1.000000e+02\n",
       "50%      1.635000e+02\n",
       "75%      2.525000e+02\n",
       "max      2.877600e+04\n",
       "Name: MktFare, dtype: float64"
      ]
     },
     "execution_count": 12,
     "metadata": {},
     "output_type": "execute_result"
    }
   ],
   "source": [
    "data['MktFare'].describe()"
   ]
  },
  {
   "cell_type": "markdown",
   "metadata": {},
   "source": [
    "## Data cleaning "
   ]
  },
  {
   "cell_type": "markdown",
   "metadata": {},
   "source": [
    "### For Presentation purpose drop random data "
   ]
  },
  {
   "cell_type": "code",
   "execution_count": 13,
   "metadata": {},
   "outputs": [],
   "source": [
    "# data is too big, dropping rows to optimize run speed \n",
    "np.random.seed(10)\n",
    "\n",
    "remove_n = 1047575\n",
    "drop_indices = np.random.choice(data.index, remove_n, replace=False)\n",
    "data = data.drop(drop_indices)\n"
   ]
  },
  {
   "cell_type": "markdown",
   "metadata": {},
   "source": [
    "#### Drop unnessasary columns to make it easy to work with."
   ]
  },
  {
   "cell_type": "code",
   "execution_count": 14,
   "metadata": {},
   "outputs": [],
   "source": [
    "#Drop unnessasary columns\n",
    "flight_pricing = data.drop(['ItinID', 'MktID', \n",
    "                     'Year','Quarter','MktCoupons','OriginAirportSeqID','DestAirportSeqID',\n",
    "                     'OriginCountry', 'OriginAirportID', 'OriginCityMarketID','OriginStateFips','OriginState', 'OriginWac',\n",
    "                     'DestCountry', 'DestAirportID', 'DestCityMarketID', 'DestStateFips', 'DestState', 'DestWac',\n",
    "                     'WacGroup', 'TkCarrierChange', 'TkCarrierGroup', 'OpCarrierChange', 'OpCarrierGroup',\n",
    "                     'RPCarrier', 'OpCarrier', 'BulkFare', 'MktDistanceGroup', 'MktMilesFlown', 'NonStopMiles', 'ItinGeoType'], axis=1)"
   ]
  },
  {
   "cell_type": "code",
   "execution_count": 15,
   "metadata": {},
   "outputs": [
    {
     "data": {
      "text/html": [
       "<div>\n",
       "<style scoped>\n",
       "    .dataframe tbody tr th:only-of-type {\n",
       "        vertical-align: middle;\n",
       "    }\n",
       "\n",
       "    .dataframe tbody tr th {\n",
       "        vertical-align: top;\n",
       "    }\n",
       "\n",
       "    .dataframe thead th {\n",
       "        text-align: right;\n",
       "    }\n",
       "</style>\n",
       "<table border=\"1\" class=\"dataframe\">\n",
       "  <thead>\n",
       "    <tr style=\"text-align: right;\">\n",
       "      <th></th>\n",
       "      <th>Origin</th>\n",
       "      <th>OriginStateName</th>\n",
       "      <th>Dest</th>\n",
       "      <th>DestStateName</th>\n",
       "      <th>AirportGroup</th>\n",
       "      <th>TkCarrier</th>\n",
       "      <th>Passengers</th>\n",
       "      <th>MktFare</th>\n",
       "      <th>MktDistance</th>\n",
       "      <th>MktGeoType</th>\n",
       "    </tr>\n",
       "  </thead>\n",
       "  <tbody>\n",
       "    <tr>\n",
       "      <th>503</th>\n",
       "      <td>LAX</td>\n",
       "      <td>California</td>\n",
       "      <td>PHX</td>\n",
       "      <td>Arizona</td>\n",
       "      <td>LAX:PHX</td>\n",
       "      <td>AA</td>\n",
       "      <td>1</td>\n",
       "      <td>235.00</td>\n",
       "      <td>370</td>\n",
       "      <td>2</td>\n",
       "    </tr>\n",
       "    <tr>\n",
       "      <th>2207</th>\n",
       "      <td>LAX</td>\n",
       "      <td>California</td>\n",
       "      <td>PHX</td>\n",
       "      <td>Arizona</td>\n",
       "      <td>LAX:PHX</td>\n",
       "      <td>AA</td>\n",
       "      <td>1</td>\n",
       "      <td>40.75</td>\n",
       "      <td>370</td>\n",
       "      <td>2</td>\n",
       "    </tr>\n",
       "    <tr>\n",
       "      <th>2854</th>\n",
       "      <td>AVL</td>\n",
       "      <td>North Carolina</td>\n",
       "      <td>LGA</td>\n",
       "      <td>New York</td>\n",
       "      <td>AVL:CLT:LGA</td>\n",
       "      <td>AA</td>\n",
       "      <td>1</td>\n",
       "      <td>77.00</td>\n",
       "      <td>635</td>\n",
       "      <td>2</td>\n",
       "    </tr>\n",
       "    <tr>\n",
       "      <th>5735</th>\n",
       "      <td>RAP</td>\n",
       "      <td>South Dakota</td>\n",
       "      <td>PBI</td>\n",
       "      <td>Florida</td>\n",
       "      <td>RAP:DFW:PBI</td>\n",
       "      <td>AA</td>\n",
       "      <td>1</td>\n",
       "      <td>176.00</td>\n",
       "      <td>1937</td>\n",
       "      <td>2</td>\n",
       "    </tr>\n",
       "    <tr>\n",
       "      <th>6137</th>\n",
       "      <td>RDU</td>\n",
       "      <td>North Carolina</td>\n",
       "      <td>DTW</td>\n",
       "      <td>Michigan</td>\n",
       "      <td>RDU:IAD:DTW</td>\n",
       "      <td>UA</td>\n",
       "      <td>1</td>\n",
       "      <td>179.00</td>\n",
       "      <td>607</td>\n",
       "      <td>2</td>\n",
       "    </tr>\n",
       "    <tr>\n",
       "      <th>...</th>\n",
       "      <td>...</td>\n",
       "      <td>...</td>\n",
       "      <td>...</td>\n",
       "      <td>...</td>\n",
       "      <td>...</td>\n",
       "      <td>...</td>\n",
       "      <td>...</td>\n",
       "      <td>...</td>\n",
       "      <td>...</td>\n",
       "      <td>...</td>\n",
       "    </tr>\n",
       "    <tr>\n",
       "      <th>1044642</th>\n",
       "      <td>AVP</td>\n",
       "      <td>Pennsylvania</td>\n",
       "      <td>ATL</td>\n",
       "      <td>Georgia</td>\n",
       "      <td>AVP:CLT:ATL</td>\n",
       "      <td>AA</td>\n",
       "      <td>1</td>\n",
       "      <td>82.00</td>\n",
       "      <td>735</td>\n",
       "      <td>2</td>\n",
       "    </tr>\n",
       "    <tr>\n",
       "      <th>1045021</th>\n",
       "      <td>AVP</td>\n",
       "      <td>Pennsylvania</td>\n",
       "      <td>TXK</td>\n",
       "      <td>Arkansas</td>\n",
       "      <td>AVP:CLT:DFW:TXK</td>\n",
       "      <td>AA</td>\n",
       "      <td>1</td>\n",
       "      <td>151.00</td>\n",
       "      <td>1626</td>\n",
       "      <td>2</td>\n",
       "    </tr>\n",
       "    <tr>\n",
       "      <th>1045403</th>\n",
       "      <td>MCO</td>\n",
       "      <td>Florida</td>\n",
       "      <td>AVP</td>\n",
       "      <td>Pennsylvania</td>\n",
       "      <td>MCO:CLT:AVP</td>\n",
       "      <td>AA</td>\n",
       "      <td>1</td>\n",
       "      <td>299.00</td>\n",
       "      <td>977</td>\n",
       "      <td>2</td>\n",
       "    </tr>\n",
       "    <tr>\n",
       "      <th>1047393</th>\n",
       "      <td>BHM</td>\n",
       "      <td>Alabama</td>\n",
       "      <td>MIA</td>\n",
       "      <td>Florida</td>\n",
       "      <td>BHM:CLT:MIA</td>\n",
       "      <td>AA</td>\n",
       "      <td>1</td>\n",
       "      <td>100.50</td>\n",
       "      <td>1000</td>\n",
       "      <td>2</td>\n",
       "    </tr>\n",
       "    <tr>\n",
       "      <th>1048548</th>\n",
       "      <td>BNA</td>\n",
       "      <td>Tennessee</td>\n",
       "      <td>EWR</td>\n",
       "      <td>New Jersey</td>\n",
       "      <td>BNA:CLT:EWR</td>\n",
       "      <td>AA</td>\n",
       "      <td>1</td>\n",
       "      <td>381.00</td>\n",
       "      <td>857</td>\n",
       "      <td>2</td>\n",
       "    </tr>\n",
       "  </tbody>\n",
       "</table>\n",
       "<p>1000 rows × 10 columns</p>\n",
       "</div>"
      ],
      "text/plain": [
       "        Origin OriginStateName Dest DestStateName     AirportGroup TkCarrier  \\\n",
       "503        LAX      California  PHX       Arizona          LAX:PHX        AA   \n",
       "2207       LAX      California  PHX       Arizona          LAX:PHX        AA   \n",
       "2854       AVL  North Carolina  LGA      New York      AVL:CLT:LGA        AA   \n",
       "5735       RAP    South Dakota  PBI       Florida      RAP:DFW:PBI        AA   \n",
       "6137       RDU  North Carolina  DTW      Michigan      RDU:IAD:DTW        UA   \n",
       "...        ...             ...  ...           ...              ...       ...   \n",
       "1044642    AVP    Pennsylvania  ATL       Georgia      AVP:CLT:ATL        AA   \n",
       "1045021    AVP    Pennsylvania  TXK      Arkansas  AVP:CLT:DFW:TXK        AA   \n",
       "1045403    MCO         Florida  AVP  Pennsylvania      MCO:CLT:AVP        AA   \n",
       "1047393    BHM         Alabama  MIA       Florida      BHM:CLT:MIA        AA   \n",
       "1048548    BNA       Tennessee  EWR    New Jersey      BNA:CLT:EWR        AA   \n",
       "\n",
       "         Passengers  MktFare  MktDistance  MktGeoType  \n",
       "503               1   235.00          370           2  \n",
       "2207              1    40.75          370           2  \n",
       "2854              1    77.00          635           2  \n",
       "5735              1   176.00         1937           2  \n",
       "6137              1   179.00          607           2  \n",
       "...             ...      ...          ...         ...  \n",
       "1044642           1    82.00          735           2  \n",
       "1045021           1   151.00         1626           2  \n",
       "1045403           1   299.00          977           2  \n",
       "1047393           1   100.50         1000           2  \n",
       "1048548           1   381.00          857           2  \n",
       "\n",
       "[1000 rows x 10 columns]"
      ]
     },
     "execution_count": 15,
     "metadata": {},
     "output_type": "execute_result"
    }
   ],
   "source": [
    "# Drop na\n",
    "flight_pricing.dropna()"
   ]
  },
  {
   "cell_type": "code",
   "execution_count": 16,
   "metadata": {},
   "outputs": [
    {
     "name": "stdout",
     "output_type": "stream",
     "text": [
      "<class 'pandas.core.frame.DataFrame'>\n",
      "Int64Index: 1000 entries, 503 to 1048548\n",
      "Data columns (total 10 columns):\n",
      " #   Column           Non-Null Count  Dtype  \n",
      "---  ------           --------------  -----  \n",
      " 0   Origin           1000 non-null   object \n",
      " 1   OriginStateName  1000 non-null   object \n",
      " 2   Dest             1000 non-null   object \n",
      " 3   DestStateName    1000 non-null   object \n",
      " 4   AirportGroup     1000 non-null   object \n",
      " 5   TkCarrier        1000 non-null   object \n",
      " 6   Passengers       1000 non-null   int64  \n",
      " 7   MktFare          1000 non-null   float64\n",
      " 8   MktDistance      1000 non-null   int64  \n",
      " 9   MktGeoType       1000 non-null   int64  \n",
      "dtypes: float64(1), int64(3), object(6)\n",
      "memory usage: 85.9+ KB\n"
     ]
    }
   ],
   "source": [
    "# simple flight info\n",
    "flight_pricing.info()"
   ]
  },
  {
   "cell_type": "code",
   "execution_count": 17,
   "metadata": {},
   "outputs": [
    {
     "data": {
      "text/html": [
       "<div>\n",
       "<style scoped>\n",
       "    .dataframe tbody tr th:only-of-type {\n",
       "        vertical-align: middle;\n",
       "    }\n",
       "\n",
       "    .dataframe tbody tr th {\n",
       "        vertical-align: top;\n",
       "    }\n",
       "\n",
       "    .dataframe thead th {\n",
       "        text-align: right;\n",
       "    }\n",
       "</style>\n",
       "<table border=\"1\" class=\"dataframe\">\n",
       "  <thead>\n",
       "    <tr style=\"text-align: right;\">\n",
       "      <th></th>\n",
       "      <th>Passengers</th>\n",
       "      <th>MktFare</th>\n",
       "      <th>MktDistance</th>\n",
       "      <th>MktGeoType</th>\n",
       "    </tr>\n",
       "  </thead>\n",
       "  <tbody>\n",
       "    <tr>\n",
       "      <th>count</th>\n",
       "      <td>1000.000000</td>\n",
       "      <td>1000.000000</td>\n",
       "      <td>1000.000000</td>\n",
       "      <td>1000.000000</td>\n",
       "    </tr>\n",
       "    <tr>\n",
       "      <th>mean</th>\n",
       "      <td>1.858000</td>\n",
       "      <td>185.979230</td>\n",
       "      <td>1323.792000</td>\n",
       "      <td>1.921000</td>\n",
       "    </tr>\n",
       "    <tr>\n",
       "      <th>std</th>\n",
       "      <td>3.703181</td>\n",
       "      <td>145.335657</td>\n",
       "      <td>831.923097</td>\n",
       "      <td>0.269874</td>\n",
       "    </tr>\n",
       "    <tr>\n",
       "      <th>min</th>\n",
       "      <td>1.000000</td>\n",
       "      <td>3.260000</td>\n",
       "      <td>100.000000</td>\n",
       "      <td>1.000000</td>\n",
       "    </tr>\n",
       "    <tr>\n",
       "      <th>25%</th>\n",
       "      <td>1.000000</td>\n",
       "      <td>99.375000</td>\n",
       "      <td>731.000000</td>\n",
       "      <td>2.000000</td>\n",
       "    </tr>\n",
       "    <tr>\n",
       "      <th>50%</th>\n",
       "      <td>1.000000</td>\n",
       "      <td>159.650000</td>\n",
       "      <td>1104.000000</td>\n",
       "      <td>2.000000</td>\n",
       "    </tr>\n",
       "    <tr>\n",
       "      <th>75%</th>\n",
       "      <td>1.000000</td>\n",
       "      <td>240.500000</td>\n",
       "      <td>1770.750000</td>\n",
       "      <td>2.000000</td>\n",
       "    </tr>\n",
       "    <tr>\n",
       "      <th>max</th>\n",
       "      <td>69.000000</td>\n",
       "      <td>1279.000000</td>\n",
       "      <td>7533.000000</td>\n",
       "      <td>2.000000</td>\n",
       "    </tr>\n",
       "  </tbody>\n",
       "</table>\n",
       "</div>"
      ],
      "text/plain": [
       "        Passengers      MktFare  MktDistance   MktGeoType\n",
       "count  1000.000000  1000.000000  1000.000000  1000.000000\n",
       "mean      1.858000   185.979230  1323.792000     1.921000\n",
       "std       3.703181   145.335657   831.923097     0.269874\n",
       "min       1.000000     3.260000   100.000000     1.000000\n",
       "25%       1.000000    99.375000   731.000000     2.000000\n",
       "50%       1.000000   159.650000  1104.000000     2.000000\n",
       "75%       1.000000   240.500000  1770.750000     2.000000\n",
       "max      69.000000  1279.000000  7533.000000     2.000000"
      ]
     },
     "execution_count": 17,
     "metadata": {},
     "output_type": "execute_result"
    }
   ],
   "source": [
    "# see how the data looks\n",
    "flight_pricing.describe()"
   ]
  },
  {
   "cell_type": "code",
   "execution_count": 18,
   "metadata": {},
   "outputs": [
    {
     "data": {
      "text/plain": [
       "Origin             0\n",
       "OriginStateName    0\n",
       "Dest               0\n",
       "DestStateName      0\n",
       "AirportGroup       0\n",
       "TkCarrier          0\n",
       "Passengers         0\n",
       "MktFare            0\n",
       "MktDistance        0\n",
       "MktGeoType         0\n",
       "dtype: int64"
      ]
     },
     "execution_count": 18,
     "metadata": {},
     "output_type": "execute_result"
    }
   ],
   "source": [
    "flight_pricing.isna().sum()\n",
    "# hence no need for imputation"
   ]
  },
  {
   "cell_type": "markdown",
   "metadata": {},
   "source": [
    "## Create a Test Set"
   ]
  },
  {
   "cell_type": "markdown",
   "metadata": {},
   "source": [
    " Use the train_test_split() method to separate our data into a training set and testing set."
   ]
  },
  {
   "cell_type": "code",
   "execution_count": 19,
   "metadata": {},
   "outputs": [],
   "source": [
    "from sklearn.model_selection import train_test_split\n",
    "\n",
    "train_set, test_set = train_test_split(flight_pricing, test_size=0.2, random_state=42)"
   ]
  },
  {
   "cell_type": "code",
   "execution_count": 20,
   "metadata": {},
   "outputs": [
    {
     "data": {
      "text/html": [
       "<div>\n",
       "<style scoped>\n",
       "    .dataframe tbody tr th:only-of-type {\n",
       "        vertical-align: middle;\n",
       "    }\n",
       "\n",
       "    .dataframe tbody tr th {\n",
       "        vertical-align: top;\n",
       "    }\n",
       "\n",
       "    .dataframe thead th {\n",
       "        text-align: right;\n",
       "    }\n",
       "</style>\n",
       "<table border=\"1\" class=\"dataframe\">\n",
       "  <thead>\n",
       "    <tr style=\"text-align: right;\">\n",
       "      <th></th>\n",
       "      <th>Origin</th>\n",
       "      <th>OriginStateName</th>\n",
       "      <th>Dest</th>\n",
       "      <th>DestStateName</th>\n",
       "      <th>AirportGroup</th>\n",
       "      <th>TkCarrier</th>\n",
       "      <th>Passengers</th>\n",
       "      <th>MktFare</th>\n",
       "      <th>MktDistance</th>\n",
       "      <th>MktGeoType</th>\n",
       "    </tr>\n",
       "  </thead>\n",
       "  <tbody>\n",
       "    <tr>\n",
       "      <th>30392</th>\n",
       "      <td>SRQ</td>\n",
       "      <td>Florida</td>\n",
       "      <td>PIT</td>\n",
       "      <td>Pennsylvania</td>\n",
       "      <td>SRQ:PIT</td>\n",
       "      <td>G4</td>\n",
       "      <td>1</td>\n",
       "      <td>45.00</td>\n",
       "      <td>912</td>\n",
       "      <td>2</td>\n",
       "    </tr>\n",
       "    <tr>\n",
       "      <th>550386</th>\n",
       "      <td>SMF</td>\n",
       "      <td>California</td>\n",
       "      <td>ATL</td>\n",
       "      <td>Georgia</td>\n",
       "      <td>SMF:ATL</td>\n",
       "      <td>DL</td>\n",
       "      <td>1</td>\n",
       "      <td>173.50</td>\n",
       "      <td>2092</td>\n",
       "      <td>2</td>\n",
       "    </tr>\n",
       "    <tr>\n",
       "      <th>726263</th>\n",
       "      <td>DAY</td>\n",
       "      <td>Ohio</td>\n",
       "      <td>DAB</td>\n",
       "      <td>Florida</td>\n",
       "      <td>DAY:ATL:DAB</td>\n",
       "      <td>DL</td>\n",
       "      <td>1</td>\n",
       "      <td>5.00</td>\n",
       "      <td>798</td>\n",
       "      <td>2</td>\n",
       "    </tr>\n",
       "    <tr>\n",
       "      <th>574463</th>\n",
       "      <td>ATL</td>\n",
       "      <td>Georgia</td>\n",
       "      <td>TUS</td>\n",
       "      <td>Arizona</td>\n",
       "      <td>ATL:TUS</td>\n",
       "      <td>DL</td>\n",
       "      <td>1</td>\n",
       "      <td>311.00</td>\n",
       "      <td>1541</td>\n",
       "      <td>2</td>\n",
       "    </tr>\n",
       "    <tr>\n",
       "      <th>870743</th>\n",
       "      <td>ECP</td>\n",
       "      <td>Florida</td>\n",
       "      <td>ORF</td>\n",
       "      <td>Virginia</td>\n",
       "      <td>ECP:ATL:ORF</td>\n",
       "      <td>DL</td>\n",
       "      <td>1</td>\n",
       "      <td>415.00</td>\n",
       "      <td>756</td>\n",
       "      <td>2</td>\n",
       "    </tr>\n",
       "    <tr>\n",
       "      <th>...</th>\n",
       "      <td>...</td>\n",
       "      <td>...</td>\n",
       "      <td>...</td>\n",
       "      <td>...</td>\n",
       "      <td>...</td>\n",
       "      <td>...</td>\n",
       "      <td>...</td>\n",
       "      <td>...</td>\n",
       "      <td>...</td>\n",
       "      <td>...</td>\n",
       "    </tr>\n",
       "    <tr>\n",
       "      <th>102560</th>\n",
       "      <td>PHX</td>\n",
       "      <td>Arizona</td>\n",
       "      <td>GRR</td>\n",
       "      <td>Michigan</td>\n",
       "      <td>PHX:GRR</td>\n",
       "      <td>AA</td>\n",
       "      <td>1</td>\n",
       "      <td>136.02</td>\n",
       "      <td>1574</td>\n",
       "      <td>2</td>\n",
       "    </tr>\n",
       "    <tr>\n",
       "      <th>257223</th>\n",
       "      <td>GUC</td>\n",
       "      <td>Colorado</td>\n",
       "      <td>CLE</td>\n",
       "      <td>Ohio</td>\n",
       "      <td>GUC:DEN:CLE</td>\n",
       "      <td>UA</td>\n",
       "      <td>1</td>\n",
       "      <td>5.50</td>\n",
       "      <td>1353</td>\n",
       "      <td>2</td>\n",
       "    </tr>\n",
       "    <tr>\n",
       "      <th>896004</th>\n",
       "      <td>IAD</td>\n",
       "      <td>Virginia</td>\n",
       "      <td>ATL</td>\n",
       "      <td>Georgia</td>\n",
       "      <td>IAD:ATL</td>\n",
       "      <td>DL</td>\n",
       "      <td>3</td>\n",
       "      <td>5.50</td>\n",
       "      <td>534</td>\n",
       "      <td>2</td>\n",
       "    </tr>\n",
       "    <tr>\n",
       "      <th>459690</th>\n",
       "      <td>PDX</td>\n",
       "      <td>Oregon</td>\n",
       "      <td>PNS</td>\n",
       "      <td>Florida</td>\n",
       "      <td>PDX:ATL:PNS</td>\n",
       "      <td>DL</td>\n",
       "      <td>1</td>\n",
       "      <td>190.00</td>\n",
       "      <td>2443</td>\n",
       "      <td>2</td>\n",
       "    </tr>\n",
       "    <tr>\n",
       "      <th>99843</th>\n",
       "      <td>AEX</td>\n",
       "      <td>Louisiana</td>\n",
       "      <td>YUM</td>\n",
       "      <td>Arizona</td>\n",
       "      <td>AEX:DFW:YUM</td>\n",
       "      <td>AA</td>\n",
       "      <td>1</td>\n",
       "      <td>182.58</td>\n",
       "      <td>1307</td>\n",
       "      <td>2</td>\n",
       "    </tr>\n",
       "  </tbody>\n",
       "</table>\n",
       "<p>800 rows × 10 columns</p>\n",
       "</div>"
      ],
      "text/plain": [
       "       Origin OriginStateName Dest DestStateName AirportGroup TkCarrier  \\\n",
       "30392     SRQ         Florida  PIT  Pennsylvania      SRQ:PIT        G4   \n",
       "550386    SMF      California  ATL       Georgia      SMF:ATL        DL   \n",
       "726263    DAY            Ohio  DAB       Florida  DAY:ATL:DAB        DL   \n",
       "574463    ATL         Georgia  TUS       Arizona      ATL:TUS        DL   \n",
       "870743    ECP         Florida  ORF      Virginia  ECP:ATL:ORF        DL   \n",
       "...       ...             ...  ...           ...          ...       ...   \n",
       "102560    PHX         Arizona  GRR      Michigan      PHX:GRR        AA   \n",
       "257223    GUC        Colorado  CLE          Ohio  GUC:DEN:CLE        UA   \n",
       "896004    IAD        Virginia  ATL       Georgia      IAD:ATL        DL   \n",
       "459690    PDX          Oregon  PNS       Florida  PDX:ATL:PNS        DL   \n",
       "99843     AEX       Louisiana  YUM       Arizona  AEX:DFW:YUM        AA   \n",
       "\n",
       "        Passengers  MktFare  MktDistance  MktGeoType  \n",
       "30392            1    45.00          912           2  \n",
       "550386           1   173.50         2092           2  \n",
       "726263           1     5.00          798           2  \n",
       "574463           1   311.00         1541           2  \n",
       "870743           1   415.00          756           2  \n",
       "...            ...      ...          ...         ...  \n",
       "102560           1   136.02         1574           2  \n",
       "257223           1     5.50         1353           2  \n",
       "896004           3     5.50          534           2  \n",
       "459690           1   190.00         2443           2  \n",
       "99843            1   182.58         1307           2  \n",
       "\n",
       "[800 rows x 10 columns]"
      ]
     },
     "execution_count": 20,
     "metadata": {},
     "output_type": "execute_result"
    }
   ],
   "source": [
    "train_set"
   ]
  },
  {
   "cell_type": "code",
   "execution_count": 21,
   "metadata": {},
   "outputs": [
    {
     "data": {
      "text/plain": [
       "(800, 9)"
      ]
     },
     "execution_count": 21,
     "metadata": {},
     "output_type": "execute_result"
    }
   ],
   "source": [
    "# create training set with Mkfare\n",
    "train_set_label = train_set[\"MktFare\"].copy()\n",
    "\n",
    "# create training set without Mkfare\n",
    "\n",
    "del train_set['MktFare']\n",
    "train_set.shape"
   ]
  },
  {
   "cell_type": "code",
   "execution_count": 22,
   "metadata": {},
   "outputs": [
    {
     "data": {
      "text/plain": [
       "(200, 9)"
      ]
     },
     "execution_count": 22,
     "metadata": {},
     "output_type": "execute_result"
    }
   ],
   "source": [
    "# create training set with Mkfare\n",
    "\n",
    "test_set_label = test_set[\"MktFare\"].copy()\n",
    "\n",
    "# create training set without Mkfare\n",
    "\n",
    "del test_set['MktFare']\n",
    "test_set.shape"
   ]
  },
  {
   "cell_type": "markdown",
   "metadata": {},
   "source": [
    "# Visualizing Data"
   ]
  },
  {
   "cell_type": "markdown",
   "metadata": {},
   "source": [
    "To understand the data better, plot histograms and understand corelation."
   ]
  },
  {
   "cell_type": "code",
   "execution_count": 23,
   "metadata": {
    "scrolled": true
   },
   "outputs": [
    {
     "name": "stdout",
     "output_type": "stream",
     "text": [
      "Saving figure attribute_histogram_plots\n"
     ]
    },
    {
     "data": {
      "image/png": "[encoded data removed]",
      "text/plain": [
       "<Figure size 1440x1080 with 4 Axes>"
      ]
     },
     "metadata": {
      "needs_background": "light"
     },
     "output_type": "display_data"
    }
   ],
   "source": [
    "flight_pricing.hist(bins=50, figsize=(20,15))\n",
    "save_fig(\"attribute_histogram_plots\")\n",
    "plt.show()"
   ]
  },
  {
   "cell_type": "code",
   "execution_count": 24,
   "metadata": {},
   "outputs": [
    {
     "data": {
      "image/png": "[encoded data removed]",
      "text/plain": [
       "<Figure size 864x576 with 16 Axes>"
      ]
     },
     "metadata": {
      "needs_background": "light"
     },
     "output_type": "display_data"
    }
   ],
   "source": [
    "#plot all the numeric variables we have in the dataset against each other one.\n",
    "\n",
    "from pandas.plotting import scatter_matrix\n",
    "\n",
    "axes = scatter_matrix(flight_pricing,figsize=(12, 8))\n",
    "\n",
    "for ax in axes.flatten():\n",
    "    ax.xaxis.label.set_rotation(90)\n",
    "    ax.yaxis.label.set_rotation(0)\n",
    "    ax.yaxis.label.set_ha('right')\n",
    "\n",
    "plt.tight_layout()\n",
    "plt.gcf().subplots_adjust(wspace=0, hspace=0)\n",
    "plt.show()"
   ]
  },
  {
   "cell_type": "code",
   "execution_count": 25,
   "metadata": {},
   "outputs": [
    {
     "name": "stdout",
     "output_type": "stream",
     "text": [
      "Saving figure MkFare_vs_MktDistance_scatterplot\n"
     ]
    },
    {
     "data": {
      "image/png": "[encoded data removed]",
      "text/plain": [
       "<Figure size 432x288 with 1 Axes>"
      ]
     },
     "metadata": {
      "needs_background": "light"
     },
     "output_type": "display_data"
    }
   ],
   "source": [
    "# Mktfare and MktDistance looks like they have a better correlation than others.\n",
    "flight_pricing.plot(kind=\"scatter\", x=\"MktFare\", y=\"MktDistance\", alpha=0.1)\n",
    "plt.axis([0, 2000, 0, 8000])\n",
    "save_fig(\"MkFare_vs_MktDistance_scatterplot\")"
   ]
  },
  {
   "cell_type": "code",
   "execution_count": 26,
   "metadata": {},
   "outputs": [
    {
     "data": {
      "text/plain": [
       "MktFare        1.000000\n",
       "MktDistance    0.268184\n",
       "Passengers    -0.120501\n",
       "MktGeoType    -0.147450\n",
       "Name: MktFare, dtype: float64"
      ]
     },
     "execution_count": 26,
     "metadata": {},
     "output_type": "execute_result"
    }
   ],
   "source": [
    "# looking at the corelation, Mkt distance seems to have better correlation with MktFare\n",
    "corr_matrix = flight_pricing.corr()\n",
    "corr_matrix[\"MktFare\"].sort_values(ascending=False)"
   ]
  },
  {
   "cell_type": "code",
   "execution_count": 27,
   "metadata": {},
   "outputs": [
    {
     "name": "stdout",
     "output_type": "stream",
     "text": [
      "Saving figure CountOriginState\n"
     ]
    },
    {
     "data": {
      "image/png": "[encoded data removed]",
      "text/plain": [
       "<Figure size 1152x576 with 1 Axes>"
      ]
     },
     "metadata": {},
     "output_type": "display_data"
    }
   ],
   "source": [
    "# show how many flights from each original states\n",
    "\n",
    "plt.style.use('ggplot')\n",
    "flight_pricing.groupby('OriginStateName').MktDistance.sum().plot(kind='bar',figsize=(16,8))\n",
    "save_fig(\"CountOriginState\")\n",
    "plt.show()\n"
   ]
  },
  {
   "cell_type": "code",
   "execution_count": 28,
   "metadata": {},
   "outputs": [
    {
     "name": "stdout",
     "output_type": "stream",
     "text": [
      "Saving figure CountDestState\n"
     ]
    },
    {
     "data": {
      "image/png": "[encoded data removed]",
      "text/plain": [
       "<Figure size 1152x576 with 1 Axes>"
      ]
     },
     "metadata": {},
     "output_type": "display_data"
    }
   ],
   "source": [
    "# show how many flights from each original states\n",
    "\n",
    "flight_pricing.groupby('DestStateName').MktDistance.sum().plot(kind='bar',figsize=(16,8))\n",
    "save_fig(\"CountDestState\")\n",
    "plt.show()\n"
   ]
  },
  {
   "cell_type": "markdown",
   "metadata": {},
   "source": [
    "## Convert Catagorical Data"
   ]
  },
  {
   "cell_type": "code",
   "execution_count": 31,
   "metadata": {},
   "outputs": [
    {
     "data": {
      "text/plain": [
       "Index(['Origin', 'OriginStateName', 'Dest', 'DestStateName', 'AirportGroup',\n",
       "       'TkCarrier', 'Passengers', 'MktDistance', 'MktGeoType'],\n",
       "      dtype='object')"
      ]
     },
     "execution_count": 31,
     "metadata": {},
     "output_type": "execute_result"
    }
   ],
   "source": [
    "train_set.columns"
   ]
  },
  {
   "cell_type": "code",
   "execution_count": 32,
   "metadata": {},
   "outputs": [],
   "source": [
    "# one hot encoding\n",
    "# creat a function that will encode the catagorical data\n",
    "\n",
    "\n",
    "from sklearn.preprocessing import OneHotEncoder# one hot encoding\n",
    "from sklearn.pipeline import Pipeline\n",
    "from sklearn.preprocessing import MinMaxScaler\n",
    "\n",
    "def encode(train_set, test_set):\n",
    "    train_set.set_index([pd.Index(range(0, train_set.shape[0]))], inplace=True)\n",
    "    test_set.set_index([pd.Index(range(0, test_set.shape[0]))], inplace=True)\n",
    "    \n",
    "    ######################################### Training set\n",
    "    # seeing categorical columns    \n",
    "    cols = train_set.columns\n",
    "    num_cols = train_set._get_numeric_data().columns\n",
    "    cat_columns = list(set(cols) - set(num_cols))\n",
    "    \n",
    "    # seeing numerical columns    \n",
    "    num_columns = list(num_cols)\n",
    "    \n",
    "    # creating categoical encoded data\n",
    "    col_enc = OneHotEncoder(sparse=False, handle_unknown='ignore')\n",
    "    cols_data = col_enc.fit_transform(train_set[cat_columns])\n",
    "    train_set.drop(cat_columns, axis = 1, inplace = True)\n",
    "    cols_data = pd.DataFrame(cols_data)\n",
    "    train_set = pd.concat([train_set, cols_data], axis= 1)\n",
    "    \n",
    "    # creating numerical encoded data    \n",
    "    scaler = MinMaxScaler()\n",
    "    scaled = scaler.fit_transform(train_set[num_columns])\n",
    "    train_set.drop(num_columns, axis = 1, inplace = True)\n",
    "    scaled = pd.DataFrame(scaled, columns = range(len(train_set.columns), len(train_set.columns)+scaled.shape[1]))\n",
    "    train_set = pd.concat([train_set, scaled], axis= 1)\n",
    "    \n",
    "    ################################################ Testing Set\n",
    "    # seeing categorical columns    \n",
    "    cols = test_set.columns\n",
    "    num_cols = test_set._get_numeric_data().columns\n",
    "    cat_columns = list(set(cols) - set(num_cols))\n",
    "    \n",
    "    # seeing numerical columns    \n",
    "    num_columns = list(num_cols)\n",
    "    \n",
    "    # creating categoical encoded data\n",
    "    cols_data = col_enc.transform(test_set[cat_columns])\n",
    "    test_set.drop(cat_columns, axis = 1, inplace = True)\n",
    "    cols_data = pd.DataFrame(cols_data)\n",
    "    test_set = pd.concat([test_set, cols_data], axis= 1)\n",
    "    \n",
    "    # creating numerical encoded data    \n",
    "    scaled = scaler.transform(test_set[num_columns])\n",
    "    test_set.drop(num_columns, axis = 1, inplace = True)\n",
    "    scaled = pd.DataFrame(scaled, columns = range(len(test_set.columns), len(test_set.columns)+scaled.shape[1]))\n",
    "    test_set = pd.concat([test_set, scaled], axis= 1)\n",
    "\n",
    "    return train_set, test_set    "
   ]
  },
  {
   "cell_type": "code",
   "execution_count": 33,
   "metadata": {
    "scrolled": true
   },
   "outputs": [
    {
     "name": "stderr",
     "output_type": "stream",
     "text": [
      "/Users/betty/opt/anaconda3/envs/tensorflow/lib/python3.7/site-packages/pandas/core/frame.py:4913: SettingWithCopyWarning: \n",
      "A value is trying to be set on a copy of a slice from a DataFrame\n",
      "\n",
      "See the caveats in the documentation: https://pandas.pydata.org/pandas-docs/stable/user_guide/indexing.html#returning-a-view-versus-a-copy\n",
      "  errors=errors,\n",
      "/Users/betty/opt/anaconda3/envs/tensorflow/lib/python3.7/site-packages/pandas/core/frame.py:4913: SettingWithCopyWarning: \n",
      "A value is trying to be set on a copy of a slice from a DataFrame\n",
      "\n",
      "See the caveats in the documentation: https://pandas.pydata.org/pandas-docs/stable/user_guide/indexing.html#returning-a-view-versus-a-copy\n",
      "  errors=errors,\n"
     ]
    }
   ],
   "source": [
    "# run the train_set and test_set in our function\n",
    "train_set, test_set = encode(train_set, test_set)"
   ]
  },
  {
   "cell_type": "code",
   "execution_count": 34,
   "metadata": {},
   "outputs": [
    {
     "data": {
      "text/plain": [
       "(800, 1209)"
      ]
     },
     "execution_count": 34,
     "metadata": {},
     "output_type": "execute_result"
    }
   ],
   "source": [
    "train_set.shape"
   ]
  },
  {
   "cell_type": "code",
   "execution_count": 35,
   "metadata": {},
   "outputs": [
    {
     "data": {
      "text/plain": [
       "(200, 1209)"
      ]
     },
     "execution_count": 35,
     "metadata": {},
     "output_type": "execute_result"
    }
   ],
   "source": [
    "test_set.shape"
   ]
  },
  {
   "cell_type": "markdown",
   "metadata": {},
   "source": [
    "# Feature Selection\n"
   ]
  },
  {
   "cell_type": "markdown",
   "metadata": {},
   "source": [
    "Select features according to the k highest scores.\n",
    "`f_regression`will rank features in the same order "
   ]
  },
  {
   "cell_type": "code",
   "execution_count": 36,
   "metadata": {},
   "outputs": [
    {
     "data": {
      "text/plain": [
       "(800, 1209)"
      ]
     },
     "execution_count": 36,
     "metadata": {},
     "output_type": "execute_result"
    }
   ],
   "source": [
    "train_set.shape"
   ]
  },
  {
   "cell_type": "code",
   "execution_count": 37,
   "metadata": {},
   "outputs": [
    {
     "data": {
      "text/plain": [
       "(200, 1209)"
      ]
     },
     "execution_count": 37,
     "metadata": {},
     "output_type": "execute_result"
    }
   ],
   "source": [
    "test_set.shape"
   ]
  },
  {
   "cell_type": "code",
   "execution_count": 38,
   "metadata": {},
   "outputs": [],
   "source": [
    "#Select features according to the k highest scores.\n",
    "#will rank features in the same order \n",
    "\n",
    "\n",
    "\n",
    "from sklearn.feature_selection import SelectKBest\n",
    "from sklearn.feature_selection import f_regression\n",
    "from sklearn.feature_selection import mutual_info_regression\n",
    "\n",
    "def select_features(train_set, train_set_label, test_set):\n",
    "    fs = SelectKBest(score_func=f_regression, k=\"all\")\n",
    "    fs.fit(train_set, train_set_label)\n",
    "    train_set_fs = fs.transform(train_set)\n",
    "    test_set_fs = fs.transform(test_set)\n",
    "    return train_set_fs, test_set_fs"
   ]
  },
  {
   "cell_type": "code",
   "execution_count": 39,
   "metadata": {},
   "outputs": [],
   "source": [
    "fs = SelectKBest(score_func=f_regression, k='all')\n",
    "train_set, test_set = select_features(train_set, train_set_label, test_set)"
   ]
  },
  {
   "cell_type": "code",
   "execution_count": 40,
   "metadata": {},
   "outputs": [
    {
     "data": {
      "text/plain": [
       "(800, 1209)"
      ]
     },
     "execution_count": 40,
     "metadata": {},
     "output_type": "execute_result"
    }
   ],
   "source": [
    "train_set.shape\n"
   ]
  },
  {
   "cell_type": "code",
   "execution_count": 41,
   "metadata": {},
   "outputs": [
    {
     "data": {
      "text/plain": [
       "(200, 1209)"
      ]
     },
     "execution_count": 41,
     "metadata": {},
     "output_type": "execute_result"
    }
   ],
   "source": [
    "test_set.shape\n"
   ]
  },
  {
   "cell_type": "markdown",
   "metadata": {},
   "source": [
    "# Select and Train a Model"
   ]
  },
  {
   "cell_type": "markdown",
   "metadata": {},
   "source": [
    "Train the data using diffrent models and select one that works for the data.\n",
    "\n",
    "Linear regressor\n",
    "\n",
    "Decision Tree\n",
    "\n",
    "SVM\n",
    "\n",
    "Random Tree Forest"
   ]
  },
  {
   "cell_type": "markdown",
   "metadata": {},
   "source": [
    "### Linear Regressor"
   ]
  },
  {
   "cell_type": "markdown",
   "metadata": {},
   "source": [
    "Train the model using linear regressor"
   ]
  },
  {
   "cell_type": "code",
   "execution_count": 42,
   "metadata": {},
   "outputs": [
    {
     "data": {
      "text/plain": [
       "30392      45.00\n",
       "550386    173.50\n",
       "726263      5.00\n",
       "574463    311.00\n",
       "870743    415.00\n",
       "           ...  \n",
       "102560    136.02\n",
       "257223      5.50\n",
       "896004      5.50\n",
       "459690    190.00\n",
       "99843     182.58\n",
       "Name: MktFare, Length: 800, dtype: float64"
      ]
     },
     "execution_count": 42,
     "metadata": {},
     "output_type": "execute_result"
    }
   ],
   "source": [
    "from sklearn.linear_model import LinearRegression\n",
    "\n",
    "lin_reg = LinearRegression()\n",
    "lin_reg.fit(train_set, train_set_label)\n",
    "train_set_label"
   ]
  },
  {
   "cell_type": "code",
   "execution_count": 43,
   "metadata": {},
   "outputs": [
    {
     "name": "stdout",
     "output_type": "stream",
     "text": [
      "Predictions: [ 45.125 185.5    10.25  289.5   424.5  ]\n"
     ]
    }
   ],
   "source": [
    "# let's try the full preprocessing pipeline on a few training instances\n",
    "some_data = train_set[:5]\n",
    "some_labels = train_set_label[:5]\n",
    "\n",
    "print(\"Predictions:\", lin_reg.predict(some_data))"
   ]
  },
  {
   "cell_type": "code",
   "execution_count": 44,
   "metadata": {},
   "outputs": [
    {
     "name": "stdout",
     "output_type": "stream",
     "text": [
      "Labels: [45.0, 173.5, 5.0, 311.0, 415.0]\n"
     ]
    }
   ],
   "source": [
    "print(\"Labels:\", list(some_labels))"
   ]
  },
  {
   "cell_type": "markdown",
   "metadata": {},
   "source": [
    "Calculate the mean squared error"
   ]
  },
  {
   "cell_type": "code",
   "execution_count": 45,
   "metadata": {},
   "outputs": [
    {
     "data": {
      "text/plain": [
       "26.83791729589407"
      ]
     },
     "execution_count": 45,
     "metadata": {},
     "output_type": "execute_result"
    }
   ],
   "source": [
    "from sklearn.metrics import mean_squared_error\n",
    "\n",
    "flight_pricing_predictions = lin_reg.predict(train_set)\n",
    "lin_mse = mean_squared_error(train_set_label, flight_pricing_predictions)\n",
    "lin_rmse = np.sqrt(lin_mse)\n",
    "lin_rmse"
   ]
  },
  {
   "cell_type": "code",
   "execution_count": 46,
   "metadata": {},
   "outputs": [
    {
     "data": {
      "text/plain": [
       "12.297206249999999"
      ]
     },
     "execution_count": 46,
     "metadata": {},
     "output_type": "execute_result"
    }
   ],
   "source": [
    "from sklearn.metrics import mean_absolute_error\n",
    "\n",
    "lin_mae = mean_absolute_error(train_set_label, flight_pricing_predictions)\n",
    "lin_mae"
   ]
  },
  {
   "cell_type": "markdown",
   "metadata": {},
   "source": [
    "### Decision Tree"
   ]
  },
  {
   "cell_type": "markdown",
   "metadata": {},
   "source": [
    "Train the model using linear regressor"
   ]
  },
  {
   "cell_type": "code",
   "execution_count": 47,
   "metadata": {},
   "outputs": [
    {
     "data": {
      "text/plain": [
       "DecisionTreeRegressor(random_state=42)"
      ]
     },
     "execution_count": 47,
     "metadata": {},
     "output_type": "execute_result"
    }
   ],
   "source": [
    "from sklearn.tree import DecisionTreeRegressor\n",
    "tree_reg = DecisionTreeRegressor(random_state=42)\n",
    "tree_reg.fit(train_set, train_set_label)"
   ]
  },
  {
   "cell_type": "markdown",
   "metadata": {},
   "source": [
    "Calculate the mean squared error"
   ]
  },
  {
   "cell_type": "code",
   "execution_count": 48,
   "metadata": {},
   "outputs": [
    {
     "data": {
      "text/plain": [
       "14.403847090997369"
      ]
     },
     "execution_count": 48,
     "metadata": {},
     "output_type": "execute_result"
    }
   ],
   "source": [
    "flight_pricing_predictions = tree_reg.predict(train_set)\n",
    "tree_mse = mean_squared_error(train_set_label, flight_pricing_predictions)\n",
    "tree_rmse = np.sqrt(tree_mse)\n",
    "tree_rmse"
   ]
  },
  {
   "cell_type": "code",
   "execution_count": 49,
   "metadata": {},
   "outputs": [
    {
     "data": {
      "text/plain": [
       "2.4977708333333335"
      ]
     },
     "execution_count": 49,
     "metadata": {},
     "output_type": "execute_result"
    }
   ],
   "source": [
    "lin_mae = mean_absolute_error(train_set_label, flight_pricing_predictions)\n",
    "lin_mae"
   ]
  },
  {
   "cell_type": "markdown",
   "metadata": {},
   "source": [
    "### SVM"
   ]
  },
  {
   "cell_type": "markdown",
   "metadata": {},
   "source": [
    "Train the model using linear regressor"
   ]
  },
  {
   "cell_type": "code",
   "execution_count": 50,
   "metadata": {},
   "outputs": [
    {
     "data": {
      "text/plain": [
       "139.66859734528325"
      ]
     },
     "execution_count": 50,
     "metadata": {},
     "output_type": "execute_result"
    }
   ],
   "source": [
    "from sklearn.svm import SVR\n",
    "svm_reg =SVR(kernel = 'linear')\n",
    "svm_reg.fit(train_set, train_set_label)\n",
    "flight_pricing_predictions = svm_reg.predict(train_set)\n",
    "svm_mse = mean_squared_error(train_set_label, flight_pricing_predictions)\n",
    "svm_rmse = np.sqrt(svm_mse)\n",
    "svm_rmse"
   ]
  },
  {
   "cell_type": "markdown",
   "metadata": {},
   "source": [
    "### Random Tree Forest"
   ]
  },
  {
   "cell_type": "markdown",
   "metadata": {},
   "source": [
    "Train the model using linear regressor"
   ]
  },
  {
   "cell_type": "code",
   "execution_count": 51,
   "metadata": {},
   "outputs": [
    {
     "data": {
      "text/plain": [
       "RandomForestRegressor(random_state=42)"
      ]
     },
     "execution_count": 51,
     "metadata": {},
     "output_type": "execute_result"
    }
   ],
   "source": [
    "from sklearn.ensemble import RandomForestRegressor\n",
    "\n",
    "forest_reg = RandomForestRegressor(n_estimators=100, random_state=42)\n",
    "forest_reg.fit(train_set, train_set_label)"
   ]
  },
  {
   "cell_type": "markdown",
   "metadata": {},
   "source": [
    "Calculate the mean squared error"
   ]
  },
  {
   "cell_type": "code",
   "execution_count": 52,
   "metadata": {},
   "outputs": [
    {
     "data": {
      "text/plain": [
       "54.72106916040829"
      ]
     },
     "execution_count": 52,
     "metadata": {},
     "output_type": "execute_result"
    }
   ],
   "source": [
    "forest_reg.fit(train_set, train_set_label)\n",
    "flight_pricing_predictions = forest_reg.predict(train_set)\n",
    "forest_mse = mean_squared_error(train_set_label, flight_pricing_predictions)\n",
    "forest_rmse = np.sqrt(forest_mse)\n",
    "forest_rmse"
   ]
  },
  {
   "cell_type": "code",
   "execution_count": 53,
   "metadata": {},
   "outputs": [
    {
     "data": {
      "text/plain": [
       "35.95799552142857"
      ]
     },
     "execution_count": 53,
     "metadata": {},
     "output_type": "execute_result"
    }
   ],
   "source": [
    "lin_mae = mean_absolute_error(train_set_label, flight_pricing_predictions)\n",
    "lin_mae"
   ]
  },
  {
   "cell_type": "markdown",
   "metadata": {},
   "source": [
    "# Evaluation using Cross-Validation\n",
    "\n",
    "We can use `cross_val_score` to perform cross-validation."
   ]
  },
  {
   "cell_type": "code",
   "execution_count": 54,
   "metadata": {},
   "outputs": [
    {
     "name": "stdout",
     "output_type": "stream",
     "text": [
      "Scores: [157.23700906 175.5582306  169.08527818 138.478606   154.22072931\n",
      " 160.61233917 186.6320077  179.96737601 164.79050377 186.99271087]\n",
      "\n",
      "Mean: 167.35747906717796\n",
      "Standard deviation: 14.653909341568136\n"
     ]
    }
   ],
   "source": [
    "from sklearn.model_selection import cross_val_score\n",
    "\n",
    "scores = cross_val_score(tree_reg, train_set, train_set_label, scoring=\"neg_mean_squared_error\", cv=10)\n",
    "tree_rmse_scores = np.sqrt(-scores)\n",
    "display_scores(tree_rmse_scores)"
   ]
  },
  {
   "cell_type": "code",
   "execution_count": 55,
   "metadata": {},
   "outputs": [
    {
     "name": "stdout",
     "output_type": "stream",
     "text": [
      "Scores: [120.21901754 157.91184547 158.31640639  91.4296929  126.34111841\n",
      " 144.89167265 173.84112523 120.6794339  136.86116388 164.28739454]\n",
      "\n",
      "Mean: 139.4778870899073\n",
      "Standard deviation: 23.943037183109148\n"
     ]
    }
   ],
   "source": [
    "forest_scores = cross_val_score(forest_reg, train_set, train_set_label, scoring=\"neg_mean_squared_error\", cv=10)\n",
    "forest_rmse_scores = np.sqrt(-forest_scores)\n",
    "display_scores(forest_rmse_scores)"
   ]
  },
  {
   "cell_type": "markdown",
   "metadata": {},
   "source": [
    "## Grid Search\n",
    "\n",
    "We can use the `GridSearchCV` to tune hyperparameters."
   ]
  },
  {
   "cell_type": "code",
   "execution_count": 56,
   "metadata": {},
   "outputs": [
    {
     "name": "stdout",
     "output_type": "stream",
     "text": [
      "Fitting 3 folds for each of 98 candidates, totalling 294 fits\n",
      "The best parameters are:  {'max_depth': 3, 'min_samples_split': 2, 'splitter': 'random'}\n"
     ]
    }
   ],
   "source": [
    "from sklearn.model_selection import GridSearchCV\n",
    "param_grid = {'splitter':['best','random'],'min_samples_split':[2,5,8,14,16,18,20],\n",
    "              'max_depth': [1,3,4,5,8,16,32]}\n",
    "\n",
    "grid_search_cv = GridSearchCV(DecisionTreeRegressor(random_state = 42), param_grid,verbose=1, cv=3 )\n",
    "grid_search_cv.fit(train_set, train_set_label) # fit the training data\n",
    "print(\"The best parameters are: \", grid_search_cv.best_params_)"
   ]
  },
  {
   "cell_type": "code",
   "execution_count": 68,
   "metadata": {},
   "outputs": [
    {
     "name": "stdout",
     "output_type": "stream",
     "text": [
      "Fitting 3 folds for each of 18 candidates, totalling 54 fits\n",
      "The best parameters are:  {'max_depth': 3, 'min_samples_split': 2, 'splitter': 'random'}\n"
     ]
    }
   ],
   "source": [
    " from sklearn.model_selection import GridSearchCV\n",
    "param_grid = {'splitter':['best','random'],'min_samples_split':[2,3,4],\n",
    "              'max_depth': [1,2,3]}\n",
    "\n",
    "grid_search_cv = GridSearchCV(DecisionTreeRegressor(random_state = 42), param_grid,verbose=1, cv=3 )\n",
    "grid_search_cv.fit(train_set, train_set_label) # fit the training data\n",
    "print(\"The best parameters are: \", grid_search_cv.best_params_)"
   ]
  },
  {
   "cell_type": "code",
   "execution_count": 69,
   "metadata": {},
   "outputs": [
    {
     "data": {
      "text/plain": [
       "{'max_depth': 3, 'min_samples_split': 2, 'splitter': 'random'}"
      ]
     },
     "execution_count": 69,
     "metadata": {},
     "output_type": "execute_result"
    }
   ],
   "source": [
    "grid_search_cv.best_params_"
   ]
  },
  {
   "cell_type": "code",
   "execution_count": 70,
   "metadata": {},
   "outputs": [
    {
     "data": {
      "text/plain": [
       "DecisionTreeRegressor(max_depth=3, random_state=42, splitter='random')"
      ]
     },
     "execution_count": 70,
     "metadata": {},
     "output_type": "execute_result"
    }
   ],
   "source": [
    "grid_search_cv.best_estimator_"
   ]
  },
  {
   "cell_type": "markdown",
   "metadata": {},
   "source": [
    "Lets look at the final model"
   ]
  },
  {
   "cell_type": "code",
   "execution_count": 71,
   "metadata": {},
   "outputs": [
    {
     "data": {
      "text/plain": [
       "54.72106916040829"
      ]
     },
     "execution_count": 71,
     "metadata": {},
     "output_type": "execute_result"
    }
   ],
   "source": [
    "final_model = grid_search_cv.best_estimator_\n",
    "\n",
    "final_model.fit(train_set, train_set_label)\n",
    "flight_pricing_prediction = final_model.predict(train_set)\n",
    "tree_mse = mean_squared_error(train_set_label, flight_pricing_predictions)\n",
    "tree_rmse = np.sqrt(tree_mse)\n",
    "tree_rmse"
   ]
  },
  {
   "cell_type": "code",
   "execution_count": 72,
   "metadata": {},
   "outputs": [
    {
     "data": {
      "text/plain": [
       "35.95799552142857"
      ]
     },
     "execution_count": 72,
     "metadata": {},
     "output_type": "execute_result"
    }
   ],
   "source": [
    "tree_mae = mean_absolute_error(train_set_label, flight_pricing_predictions)\n",
    "tree_mae"
   ]
  },
  {
   "cell_type": "code",
   "execution_count": 64,
   "metadata": {},
   "outputs": [
    {
     "data": {
      "text/plain": [
       "array([[0.        , 0.        , 0.        , ..., 0.        , 0.06161711,\n",
       "        1.        ],\n",
       "       [0.        , 0.        , 0.        , ..., 0.01470588, 0.10601372,\n",
       "        1.        ],\n",
       "       [0.        , 0.        , 0.        , ..., 0.        , 0.12632853,\n",
       "        1.        ],\n",
       "       ...,\n",
       "       [0.        , 0.        , 1.        , ..., 0.01470588, 0.31723396,\n",
       "        1.        ],\n",
       "       [0.        , 1.        , 0.        , ..., 0.        , 0.13292076,\n",
       "        1.        ],\n",
       "       [0.        , 0.        , 0.        , ..., 0.        , 0.32100094,\n",
       "        0.        ]])"
      ]
     },
     "execution_count": 64,
     "metadata": {},
     "output_type": "execute_result"
    }
   ],
   "source": [
    "test_set"
   ]
  },
  {
   "cell_type": "markdown",
   "metadata": {},
   "source": [
    "### Final prediction and RMSE"
   ]
  },
  {
   "cell_type": "code",
   "execution_count": 74,
   "metadata": {},
   "outputs": [],
   "source": [
    "final_predictions = final_model.predict(test_set)\n",
    "final_mse = mean_squared_error(test_set_label, final_predictions)\n",
    "final_rmse = np.sqrt(final_mse)"
   ]
  },
  {
   "cell_type": "code",
   "execution_count": 75,
   "metadata": {},
   "outputs": [
    {
     "data": {
      "text/plain": [
       "143.54923615909976"
      ]
     },
     "execution_count": 75,
     "metadata": {},
     "output_type": "execute_result"
    }
   ],
   "source": [
    "final_rmse"
   ]
  },
  {
   "cell_type": "markdown",
   "metadata": {},
   "source": [
    "### Discussion"
   ]
  },
  {
   "cell_type": "markdown",
   "metadata": {},
   "source": [
    "From our analysis, we can conclude:\n",
    "\n",
    "- Descion Tree model is the best model to accurately predict the average fair price. The final rmse is the most acceptable compared to the other models investigated\n",
    "- Random forest was taking too much time and didn't predict very well \n",
    "- Other visualization techniques could be helpful to get a better understanding of the data"
   ]
  },
  {
   "cell_type": "markdown",
   "metadata": {},
   "source": [
    "## Future Work\n",
    "\n",
    "- The database have several attributes that doesn't affect the market fair price and maybe including external dataset attributes that affect the fair price might be helpful to increase our accuracy"
   ]
  }
 ],
 "metadata": {
  "kernelspec": {
   "display_name": "Python 3 (ipykernel)",
   "language": "python",
   "name": "python3"
  },
  "language_info": {
   "codemirror_mode": {
    "name": "ipython",
    "version": 3
   },
   "file_extension": ".py",
   "mimetype": "text/x-python",
   "name": "python",
   "nbconvert_exporter": "python",
   "pygments_lexer": "ipython3",
   "version": "3.7.11"
  }
 },
 "nbformat": 4,
 "nbformat_minor": 4
}
